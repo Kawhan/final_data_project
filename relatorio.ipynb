{
 "cells": [
  {
   "cell_type": "markdown",
   "metadata": {},
   "source": [
    "# Análise de Dados - UFPB\n",
    "\n",
    "**Professor** : Marcus Carvalho\n",
    "\n",
    "Aluno: Kawhan Laurindo de Lima\n",
    "\n",
    "# Projeto final\n",
    "\n",
    "Os dados utilizados são dados da eleição de 2020 que conta com várias informações da eleição municipal de toda paraiba, o objetivo é fazer uma analise para tentar identificar possíveis relações entre as variáveis e consequentemente aprimorar as analises.\n",
    "\n",
    "## Carregamento dos dados"
   ]
  },
  {
   "cell_type": "markdown",
   "metadata": {},
   "source": [
    "## Análise exploratória de dados\n",
    "\n",
    "Inicialmente, faça uma análise exploratória das variáveis que você considerar mais importantes para a análise."
   ]
  },
  {
   "cell_type": "markdown",
   "metadata": {},
   "source": [
    "#### Headers in data\n",
    "\n",
    "- `SQ_CANDIDATO` -> Número sequencial da candidata ou candidato, gerado\n",
    "internamente pelos sistemas eleitorais para cada eleição. \n",
    "- `ANO_ELEICAO` -> Ano de referência da eleição para geração do arquivo.\n",
    "- `SG_UF` -> Sigla da Unidade da Federação em que ocorreu a eleição.\n",
    "- `DS_CARGO` -> Descrição do cargo da candidata ou candidato.\n",
    "- `NR_CANDIDATO` -> Número da candidata ou candidato na urna\n",
    "- `NM_URNA_CANDIDATO` -> Nome da candidata ou candidato que aparece na urna.\n",
    "- `SG_PARTIDO` -> Sigla do partido de origem da candidata ou candidato.\n",
    "- `DT_NASCIMENTO` -> Data de nascimento da candidata ou candidato.\n",
    "- `NR_IDADE_DATA_POSSE` -> Idade da candidata ou candidato na data da posse.\n",
    "- `DS_GENERO` -> Gênero da candidata ouo candidato.\n",
    "- `DS_GRAU_INSTRUCAO` -> Grau de instrução da candidata ou candidato.\n",
    "- `DS_ESTADO_CIVIL` -> Estado civil da candidata ou candidato.\n",
    "- `DS_COR_RACA` -> Cor/raça da candidata ou candidato. (autodeclaração)\n",
    "- `DS_OCUPACAO` -> Ocupação da candidata ou candidato.\n",
    "- `VR_DESPESA_MAX_CAMPANHA` -> Valor máximo, em Reais, de despesas de campanha\n",
    "declarada pelo partido para aquela candidata ou candidato.\n",
    "- `DS_SIT_TOT_TURNO` -> Descrição da situação de totalização da candidata ou\n",
    "candidato naquele turno.\n",
    "- `QT_VOTOS` -> Quantidade total de votos do candidato\n",
    "- `VR_RECEITA`-> Valor total arrecadado pelo candidato para gastar na campanha (R$)\n",
    "- `VR_BEM_CANDIDATO` -> Valor total de todos os bens do candidato declarados para o TSE (R$)\n",
    "- `NM_CANDIDATO` -> Nome completo declarado pelo candidato"
   ]
  },
  {
   "cell_type": "code",
   "execution_count": 5,
   "metadata": {},
   "outputs": [],
   "source": [
    "\n",
    "# Imports\n",
    "import pandas as pd\n",
    "from scipy.stats import trim_mean\n",
    "import seaborn as sns\n",
    "import matplotlib.pylab as plt\n",
    "import numpy as np\n",
    "from sklearn.linear_model import LinearRegression\n",
    "from sklearn.metrics import r2_score, mean_squared_error\n",
    "import statsmodels.api as sm"
   ]
  },
  {
   "cell_type": "code",
   "execution_count": 6,
   "metadata": {},
   "outputs": [],
   "source": [
    "# Open the data csv \n",
    "\n",
    "eleicao = (\n",
    "    pd.read_csv('dados/eleicao_2020_pb_prefeito.csv')\n",
    ")\n"
   ]
  },
  {
   "cell_type": "code",
   "execution_count": 7,
   "metadata": {},
   "outputs": [],
   "source": [
    "# Limpando os dados (retirando os nulos)\n",
    "\n",
    "colunas_numericas = ['NR_IDADE_DATA_POSSE', 'VR_DESPESA_MAX_CAMPANHA', 'QT_VOTOS', 'VR_RECEITA', 'VR_BEM_CANDIDATO']\n",
    "\n",
    "eleicao[colunas_numericas] = eleicao[colunas_numericas].fillna(0)"
   ]
  },
  {
   "cell_type": "code",
   "execution_count": 8,
   "metadata": {},
   "outputs": [],
   "source": [
    "\n",
    "# Criando a coluna do percentual de cada candidato\n",
    "\n",
    "total_votos_eleicao = eleicao['QT_VOTOS'].sum()\n",
    "eleicao['PERCENTUAL_VOTOS'] = (eleicao['QT_VOTOS'] / total_votos_eleicao) * 100"
   ]
  },
  {
   "cell_type": "markdown",
   "metadata": {},
   "source": [
    "### Distribuição do percentual de votos"
   ]
  },
  {
   "cell_type": "code",
   "execution_count": 10,
   "metadata": {},
   "outputs": [
    {
     "data": {
      "image/png": "[encoded data removed]",
      "text/plain": [
       "<Figure size 500x400 with 1 Axes>"
      ]
     },
     "metadata": {},
     "output_type": "display_data"
    }
   ],
   "source": [
    "percentual = eleicao['PERCENTUAL_VOTOS']\n",
    "\n",
    "binPop = pd.cut(percentual, 10)\n",
    "binPop.value_counts()\n",
    "\n",
    "ax = percentual.plot.hist(figsize=(5, 4))\n",
    "ax = ax.set_xlabel('Percentual of votos %')"
   ]
  },
  {
   "cell_type": "markdown",
   "metadata": {},
   "source": [
    "#### Explicação sobre o gráfico\n",
    "\n",
    "Analisando a questão do percentual dos votos apresentados podemos notar que a grande frequencia do percentual ficou relacionado ao valor entre 0 e 1% (Lembrando que esse percentual) foi levantado em relação ao número de votos."
   ]
  },
  {
   "cell_type": "markdown",
   "metadata": {},
   "source": [
    "### Boxplot para identificar possíveis outliers no percentual"
   ]
  },
  {
   "cell_type": "code",
   "execution_count": 11,
   "metadata": {},
   "outputs": [
    {
     "data": {
      "image/png": "[encoded data removed]",
      "text/plain": [
       "<Figure size 640x480 with 1 Axes>"
      ]
     },
     "metadata": {},
     "output_type": "display_data"
    }
   ],
   "source": [
    "ax = percentual.plot.box()"
   ]
  },
  {
   "cell_type": "markdown",
   "metadata": {},
   "source": [
    "#### Explicação sobre o gráfico (Boxplot)\n",
    "\n",
    "O gráfico mostrou que quando analisamos o percentual dos votos há um grande número de outliers, isso claro pode impactar de diversas formas medidas de centralidade, por exemplo, temos a média que é impactada e muito pelo número de outliers."
   ]
  },
  {
   "cell_type": "markdown",
   "metadata": {},
   "source": [
    "### Medidas de centralidade "
   ]
  },
  {
   "cell_type": "code",
   "execution_count": 13,
   "metadata": {},
   "outputs": [
    {
     "name": "stdout",
     "output_type": "stream",
     "text": [
      "Média aritmética = 0.15267175572519084\n",
      "Moda = 0.0\n",
      "Mediana = 0.06638181670266731\n",
      "Média truncada = 0.07388629389592637\n"
     ]
    },
    {
     "data": {
      "text/plain": [
       "count    655.000000\n",
       "mean       0.152672\n",
       "std        0.614814\n",
       "min        0.000000\n",
       "25%        0.028860\n",
       "50%        0.066382\n",
       "75%        0.118163\n",
       "max        8.063102\n",
       "Name: PERCENTUAL_VOTOS, dtype: float64"
      ]
     },
     "execution_count": 13,
     "metadata": {},
     "output_type": "execute_result"
    }
   ],
   "source": [
    "print(f\"Média aritmética = {percentual.mean()}\")\n",
    "print(f\"Moda = {percentual.mode()[0]}\")\n",
    "print(f\"Mediana = {percentual.median()}\")\n",
    "print(f\"Média truncada = {trim_mean(percentual, 0.1)}\")\n",
    "\n",
    "\n",
    "percentual.describe()"
   ]
  },
  {
   "cell_type": "markdown",
   "metadata": {},
   "source": [
    "#### Explicação sobre as médidas de centralidade:\n",
    "\n",
    "A média é susceptível a ser influenciada por outliers, especialmente quando a amostra apresenta um número significativo desses valores atípicos em relação ao conjunto de dados. É provável que a presença de vários outliers destacados no boxplot tenha afetado a média. Por outro lado, a moda, embora seja mais robusta em relação a outliers, pode resultar na exclusão de algumas informações relevantes.\n",
    "\n",
    "A discrepância significativa entre todas as medidas de centralidade pode ser atribuída à grande variação nos dados, particularmente devido à presença de muitos outliers. Essa variação pode distorcer as estimativas de tendência central e enfatiza a importância de uma análise cuidadosa para interpretar corretamente os dados.\n",
    "\n",
    "O desvio padrão é uma medida de dispersão que indica o quão distante os valores médios estão da média. Essa alta variabilidade, como indicada pelo desvio padrão, sugere que os votos podem estar distribuídos de forma bastante espalhada em torno da média, com alguns valores podendo estar consideravelmente distantes da média de 0.152672 . Isso destaca a importância de considerar não apenas a média, mas também a dispersão dos dados ao analisar a distribuição dos votos.\n",
    "\n",
    "Valores extremos:\n",
    "\n",
    "Mínimo: O valor mínimo observado nos dados é  0.000000. Isso representa o ponto mais baixo na distribuição do percentual dos votos.\n",
    "\n",
    "Primeiro quartil (Q1): O valor do primeiro quartil é  0.028860, o que significa que 25% dos percentuais dos votos estão abaixo desse valor.\n",
    "\n",
    "Mediana (Q2): A mediana, ou segundo quartil, é 0.066382, como mencionado anteriormente.\n",
    "\n",
    "Terceiro quartil (Q3): O valor do terceiro quartil é 0.118163, indicando que 75% dos percentuais estão abaixo desse valor.\n",
    "\n",
    "Máximo: O valor máximo observado nos dados é 8.063102, representando o ponto mais alto na distribuição dos votos."
   ]
  },
  {
   "cell_type": "markdown",
   "metadata": {},
   "source": [
    "### Qual foi o candidato mais votado segundo o percentual?"
   ]
  },
  {
   "cell_type": "code",
   "execution_count": 17,
   "metadata": {},
   "outputs": [
    {
     "data": {
      "text/html": [
       "<div>\n",
       "<style scoped>\n",
       "    .dataframe tbody tr th:only-of-type {\n",
       "        vertical-align: middle;\n",
       "    }\n",
       "\n",
       "    .dataframe tbody tr th {\n",
       "        vertical-align: top;\n",
       "    }\n",
       "\n",
       "    .dataframe thead th {\n",
       "        text-align: right;\n",
       "    }\n",
       "</style>\n",
       "<table border=\"1\" class=\"dataframe\">\n",
       "  <thead>\n",
       "    <tr style=\"text-align: right;\">\n",
       "      <th></th>\n",
       "      <th>SQ_CANDIDATO</th>\n",
       "      <th>ANO_ELEICAO</th>\n",
       "      <th>SG_UF</th>\n",
       "      <th>DS_CARGO</th>\n",
       "      <th>NR_CANDIDATO</th>\n",
       "      <th>NM_URNA_CANDIDATO</th>\n",
       "      <th>SG_PARTIDO</th>\n",
       "      <th>DT_NASCIMENTO</th>\n",
       "      <th>NR_IDADE_DATA_POSSE</th>\n",
       "      <th>DS_GENERO</th>\n",
       "      <th>...</th>\n",
       "      <th>DS_ESTADO_CIVIL</th>\n",
       "      <th>DS_COR_RACA</th>\n",
       "      <th>DS_OCUPACAO</th>\n",
       "      <th>DS_SIT_TOT_TURNO</th>\n",
       "      <th>QT_VOTOS</th>\n",
       "      <th>VR_RECEITA</th>\n",
       "      <th>VR_BEM_CANDIDATO</th>\n",
       "      <th>VR_DESPESA_MAX_CAMPANHA</th>\n",
       "      <th>NM_CANDIDATO</th>\n",
       "      <th>PERCENTUAL_VOTOS</th>\n",
       "    </tr>\n",
       "  </thead>\n",
       "  <tbody>\n",
       "    <tr>\n",
       "      <th>262</th>\n",
       "      <td>150000976695</td>\n",
       "      <td>2020</td>\n",
       "      <td>PB</td>\n",
       "      <td>PREFEITO</td>\n",
       "      <td>11</td>\n",
       "      <td>CICERO LUCENA</td>\n",
       "      <td>PP</td>\n",
       "      <td>05/08/1957</td>\n",
       "      <td>63</td>\n",
       "      <td>MASCULINO</td>\n",
       "      <td>...</td>\n",
       "      <td>CASADO(A)</td>\n",
       "      <td>PARDA</td>\n",
       "      <td>OUTROS</td>\n",
       "      <td>ELEITO</td>\n",
       "      <td>260665.0</td>\n",
       "      <td>2894067.98</td>\n",
       "      <td>1867828.46</td>\n",
       "      <td>1123357.13</td>\n",
       "      <td>CICERO DE LUCENA FILHO</td>\n",
       "      <td>8.063102</td>\n",
       "    </tr>\n",
       "    <tr>\n",
       "      <th>412</th>\n",
       "      <td>150000976695</td>\n",
       "      <td>2020</td>\n",
       "      <td>PB</td>\n",
       "      <td>PREFEITO</td>\n",
       "      <td>11</td>\n",
       "      <td>CICERO LUCENA</td>\n",
       "      <td>PP</td>\n",
       "      <td>05/08/1957</td>\n",
       "      <td>63</td>\n",
       "      <td>MASCULINO</td>\n",
       "      <td>...</td>\n",
       "      <td>CASADO(A)</td>\n",
       "      <td>PARDA</td>\n",
       "      <td>OUTROS</td>\n",
       "      <td>2º TURNO</td>\n",
       "      <td>260665.0</td>\n",
       "      <td>2894067.98</td>\n",
       "      <td>1867828.46</td>\n",
       "      <td>2808392.83</td>\n",
       "      <td>CICERO DE LUCENA FILHO</td>\n",
       "      <td>8.063102</td>\n",
       "    </tr>\n",
       "  </tbody>\n",
       "</table>\n",
       "<p>2 rows × 21 columns</p>\n",
       "</div>"
      ],
      "text/plain": [
       "     SQ_CANDIDATO  ANO_ELEICAO SG_UF  DS_CARGO  NR_CANDIDATO  \\\n",
       "262  150000976695         2020    PB  PREFEITO            11   \n",
       "412  150000976695         2020    PB  PREFEITO            11   \n",
       "\n",
       "    NM_URNA_CANDIDATO SG_PARTIDO DT_NASCIMENTO  NR_IDADE_DATA_POSSE  \\\n",
       "262     CICERO LUCENA         PP    05/08/1957                   63   \n",
       "412     CICERO LUCENA         PP    05/08/1957                   63   \n",
       "\n",
       "     DS_GENERO  ... DS_ESTADO_CIVIL DS_COR_RACA DS_OCUPACAO DS_SIT_TOT_TURNO  \\\n",
       "262  MASCULINO  ...       CASADO(A)       PARDA      OUTROS           ELEITO   \n",
       "412  MASCULINO  ...       CASADO(A)       PARDA      OUTROS         2º TURNO   \n",
       "\n",
       "     QT_VOTOS  VR_RECEITA  VR_BEM_CANDIDATO  VR_DESPESA_MAX_CAMPANHA  \\\n",
       "262  260665.0  2894067.98        1867828.46               1123357.13   \n",
       "412  260665.0  2894067.98        1867828.46               2808392.83   \n",
       "\n",
       "               NM_CANDIDATO PERCENTUAL_VOTOS  \n",
       "262  CICERO DE LUCENA FILHO         8.063102  \n",
       "412  CICERO DE LUCENA FILHO         8.063102  \n",
       "\n",
       "[2 rows x 21 columns]"
      ]
     },
     "execution_count": 17,
     "metadata": {},
     "output_type": "execute_result"
    }
   ],
   "source": [
    "# Pessoa que obteve mais votos\n",
    "\n",
    "most_popular = percentual.max()\n",
    "eleicao[percentual == most_popular]"
   ]
  },
  {
   "cell_type": "markdown",
   "metadata": {},
   "source": [
    "#### Explicação sobre a pessoa mais votada\n"
   ]
  },
  {
   "cell_type": "markdown",
   "metadata": {},
   "source": [
    "### Qual foi o candidato menos votado?"
   ]
  },
  {
   "cell_type": "code",
   "execution_count": null,
   "metadata": {},
   "outputs": [],
   "source": [
    "less_popular = num_votos.min()\n",
    "eleicao[num_votos == less_popular]"
   ]
  },
  {
   "cell_type": "markdown",
   "metadata": {},
   "source": [
    "#### Explicação sobre os candidatos menos votados"
   ]
  },
  {
   "cell_type": "markdown",
   "metadata": {},
   "source": [
    "### Analise a dispersão de valor de receita"
   ]
  },
  {
   "cell_type": "code",
   "execution_count": null,
   "metadata": {},
   "outputs": [],
   "source": [
    "vr_receita = eleicao['VR_RECEITA']\n",
    "vr_receita.fillna(0, inplace=True)\n",
    "vr_receita_millions = vr_receita / 1000000\n",
    "\n",
    "binPop = pd.cut(vr_receita_millions, 10)\n",
    "binPop.value_counts()\n",
    "\n",
    "ax = vr_receita_millions.plot.hist(figsize=(5, 4))\n",
    "ax = ax.set_xlabel('Revenue Value (Millions) R$')"
   ]
  },
  {
   "cell_type": "markdown",
   "metadata": {},
   "source": [
    "#### Explicação sobre a dispesão de valores arrecadados pelo usuário para sua campanha"
   ]
  },
  {
   "cell_type": "code",
   "execution_count": null,
   "metadata": {},
   "outputs": [],
   "source": [
    "vr_receita.plot.box()"
   ]
  },
  {
   "cell_type": "markdown",
   "metadata": {},
   "source": [
    "#### Explicação sobre o gráfico de boxplot"
   ]
  },
  {
   "cell_type": "markdown",
   "metadata": {},
   "source": [
    "### Médidas de centralidade valor de receita\n",
    "\n"
   ]
  },
  {
   "cell_type": "code",
   "execution_count": null,
   "metadata": {},
   "outputs": [],
   "source": [
    "print(f\"Média = {vr_receita.mean()}\")\n",
    "print(f\"Moda = {vr_receita.mode()[0]}\")\n",
    "print(f\"Mediana = {vr_receita.median()}\")\n",
    "print(f\"Média truncada = {trim_mean(vr_receita, 0.1)}\")    \n",
    "\n",
    "pd.set_option('display.float_format', lambda x: '%.2f' % x)\n",
    "vr_receita.describe()"
   ]
  },
  {
   "cell_type": "markdown",
   "metadata": {},
   "source": [
    "#### Explicação sobre as médidas de centralidade:"
   ]
  },
  {
   "cell_type": "code",
   "execution_count": 45,
   "metadata": {},
   "outputs": [],
   "source": [
    "\n",
    "# Resetando a configuração de formato de números\n",
    "pd.reset_option('display.float_format')"
   ]
  },
  {
   "cell_type": "markdown",
   "metadata": {},
   "source": [
    "### Qual seria o candidato com maior valor arrecadado para sua campanha?"
   ]
  },
  {
   "cell_type": "code",
   "execution_count": null,
   "metadata": {},
   "outputs": [],
   "source": [
    "most_collected = vr_receita.max()\n",
    "eleicao[vr_receita == most_collected]"
   ]
  },
  {
   "cell_type": "markdown",
   "metadata": {},
   "source": [
    "#### Explicação sobre a candidata com maior valor arrecadado:"
   ]
  },
  {
   "cell_type": "markdown",
   "metadata": {},
   "source": [
    "### Qual seria o candidato com menor valor arrecadado para sua campanha?"
   ]
  },
  {
   "cell_type": "code",
   "execution_count": null,
   "metadata": {},
   "outputs": [],
   "source": [
    "less_collected = vr_receita.min()\n",
    "eleicao[vr_receita == less_collected]"
   ]
  },
  {
   "cell_type": "markdown",
   "metadata": {},
   "source": [
    "#### Explicação sobre os menores valores arrecadados para campanhas:"
   ]
  },
  {
   "cell_type": "markdown",
   "metadata": {},
   "source": [
    "### Qual seria a distribuição de idade dos candidatos?"
   ]
  },
  {
   "cell_type": "markdown",
   "metadata": {},
   "source": [
    "### Qual seria o candidato mais novo a ser eleito?\n"
   ]
  },
  {
   "cell_type": "markdown",
   "metadata": {},
   "source": [
    "### Qual seria o candidato mais velho a ser eleito?\n"
   ]
  },
  {
   "cell_type": "markdown",
   "metadata": {},
   "source": [
    "## Análise das relações entre variáveis"
   ]
  },
  {
   "cell_type": "markdown",
   "metadata": {},
   "source": [
    "#### Analisando a correlação de número de votos e valor de arrecadação para a campanha"
   ]
  },
  {
   "cell_type": "code",
   "execution_count": null,
   "metadata": {},
   "outputs": [],
   "source": [
    "# INSIRA SEU CÓDIGO AQUI\n",
    "ax = sns.lmplot(data=eleicao, x=\"VR_RECEITA\", y=\"QT_VOTOS\", palette=\"muted\", ci=None) \n",
    "ax.set_axis_labels(\"Receita (Millions | R$)\", \"Número de Votos\")"
   ]
  },
  {
   "cell_type": "markdown",
   "metadata": {},
   "source": [
    "#### Explicação sobre o gráfico de coorelação (Scatterplot)"
   ]
  },
  {
   "cell_type": "code",
   "execution_count": null,
   "metadata": {},
   "outputs": [],
   "source": [
    "x = eleicao['VR_RECEITA']\n",
    "y = eleicao['QT_VOTOS']\n",
    "\n",
    "pd.Series({\n",
    "    'pearson': x.corr(y, method='pearson'),\n",
    "    'spearman': x.corr(y, method='spearman'),\n",
    "    'kendall': x.corr(y, method='kendall')\n",
    "}, name='correlacao').to_frame()"
   ]
  },
  {
   "cell_type": "markdown",
   "metadata": {},
   "source": [
    "#### Explicação sobre os coeficientes "
   ]
  },
  {
   "cell_type": "code",
   "execution_count": null,
   "metadata": {},
   "outputs": [],
   "source": [
    "heatmap_data = eleicao[['VR_RECEITA', 'QT_VOTOS']].corr()\n",
    "sns.heatmap(heatmap_data, annot=True, cmap='coolwarm', linewidths=.5)\n",
    "plt.title('Correlation Heatmap')\n",
    "plt.show()"
   ]
  },
  {
   "cell_type": "markdown",
   "metadata": {},
   "source": [
    "#### Analisando o gráfico de heatmap"
   ]
  },
  {
   "cell_type": "code",
   "execution_count": null,
   "metadata": {},
   "outputs": [],
   "source": [
    "ax = sns.lmplot(data=eleicao, x=\"VR_BEM_CANDIDATO\", y=\"QT_VOTOS\", palette=\"muted\", ci=None) \n",
    "ax.set_axis_labels(\"Bens do Candidato (Millions | R$)\", \"Número de Votos\")"
   ]
  },
  {
   "cell_type": "markdown",
   "metadata": {},
   "source": [
    "#### Explicação sobre o gráfico de correlação entre bens do candidato e número de votos (Scatterplot)"
   ]
  },
  {
   "cell_type": "code",
   "execution_count": null,
   "metadata": {},
   "outputs": [],
   "source": [
    "max_vr_candidato = eleicao['VR_BEM_CANDIDATO'].max()\n",
    "candidato = eleicao[eleicao['VR_BEM_CANDIDATO'] == max_vr_candidato].reset_index()\n",
    "candidato"
   ]
  },
  {
   "cell_type": "markdown",
   "metadata": {},
   "source": [
    "#### Explicação sobre o candidato que tinha 83 milhões de bens avaliados"
   ]
  },
  {
   "cell_type": "code",
   "execution_count": null,
   "metadata": {},
   "outputs": [],
   "source": [
    "x = eleicao['VR_BEM_CANDIDATO']\n",
    "y = eleicao['QT_VOTOS']\n",
    "\n",
    "pd.Series({\n",
    "    'pearson': x.corr(y, method='pearson'),\n",
    "    'spearman': x.corr(y, method='spearman'),\n",
    "    'kendall': x.corr(y, method='kendall')\n",
    "}, name='correlacao').to_frame()"
   ]
  },
  {
   "cell_type": "markdown",
   "metadata": {},
   "source": [
    "#### Explicação sobre os coeficiente de correlação"
   ]
  },
  {
   "cell_type": "code",
   "execution_count": null,
   "metadata": {},
   "outputs": [],
   "source": [
    "heatmap_data = eleicao[['VR_BEM_CANDIDATO', 'QT_VOTOS']].corr()\n",
    "sns.heatmap(heatmap_data, annot=True, cmap='coolwarm', linewidths=.5)\n",
    "plt.title('Correlation Heatmap')\n",
    "plt.show()"
   ]
  },
  {
   "cell_type": "markdown",
   "metadata": {},
   "source": [
    "#### Explicação sobre o gráfico de heatmap"
   ]
  },
  {
   "cell_type": "markdown",
   "metadata": {},
   "source": [
    "### Fazendo o log da receita para tentar analisar uma possível correlação entre as variáveis"
   ]
  },
  {
   "cell_type": "code",
   "execution_count": null,
   "metadata": {},
   "outputs": [],
   "source": [
    "eleicao['log_receita'] = np.log(eleicao['VR_RECEITA'])\n",
    "ax = sns.lmplot(data=eleicao, x=\"log_receita\", y=\"QT_VOTOS\", palette=\"muted\", ci=None) \n",
    "ax.set_axis_labels(\"Log da Receita\", \"Número de Votos\")\n",
    "\n",
    "plt.show()"
   ]
  },
  {
   "cell_type": "markdown",
   "metadata": {},
   "source": [
    "#### Explicação sobre o uso do log da receita"
   ]
  },
  {
   "cell_type": "markdown",
   "metadata": {},
   "source": [
    "### Aplicando log em ambas as variáveis"
   ]
  },
  {
   "cell_type": "code",
   "execution_count": null,
   "metadata": {},
   "outputs": [],
   "source": [
    "eleicao['log_receita'] = np.log(eleicao['VR_RECEITA'])\n",
    "eleicao['log_votos'] = np.log(eleicao['QT_VOTOS'])\n",
    "ax = sns.lmplot(data=eleicao, x=\"log_receita\", y=\"log_votos\", palette=\"muted\", ci=None) \n",
    "ax.set_axis_labels(\"Log da Receita\", \"Log dos Votos\")\n",
    "\n",
    "plt.show()"
   ]
  },
  {
   "cell_type": "markdown",
   "metadata": {},
   "source": [
    "#### Explicando sobre a utilização dos logs em ambas as variáveis (Quantidade de votos e receita de bens declarados)"
   ]
  },
  {
   "cell_type": "markdown",
   "metadata": {},
   "source": [
    "\n",
    "## Análise de regressão \n"
   ]
  },
  {
   "cell_type": "markdown",
   "metadata": {},
   "source": [
    "### Analisando a relação entre Valor de receita e Quantida de votos"
   ]
  },
  {
   "cell_type": "code",
   "execution_count": null,
   "metadata": {},
   "outputs": [],
   "source": [
    "# INSIRA SEU CÓDIGO AQUI\n",
    "eleicao['VR_RECEITA'].fillna(0)\n",
    "eleicao['QT_VOTOS'].fillna(0)\n",
    "\n",
    "\n",
    "predictors = ['VR_RECEITA']\n",
    "outcome = 'QT_VOTOS'\n",
    "\n",
    "model = LinearRegression()\n",
    "model.fit(eleicao[predictors], eleicao[outcome])\n",
    "print(f'b0 (intercept): {model.intercept_:.2f}')\n",
    "print(f'b1 (coefficient): {model.coef_[0]:.2f}')"
   ]
  },
  {
   "cell_type": "markdown",
   "metadata": {},
   "source": [
    "#### Explicação sobre as variáveis de predição"
   ]
  },
  {
   "cell_type": "code",
   "execution_count": null,
   "metadata": {},
   "outputs": [],
   "source": [
    "fitted = model.predict(eleicao[predictors])\n",
    "residuals = eleicao[outcome] - fitted\n",
    "\n",
    "ax = eleicao.plot.scatter(x='VR_RECEITA', y='QT_VOTOS', figsize=(8, 4))\n",
    "ax.plot(eleicao.VR_RECEITA, fitted)\n",
    "for x, yactual, yfitted in zip(eleicao.VR_RECEITA, eleicao.QT_VOTOS, fitted): \n",
    "    ax.plot((x, x), (yactual, yfitted), '--', color='C1')\n",
    "\n",
    "plt.tight_layout()\n",
    "plt.show()"
   ]
  },
  {
   "cell_type": "markdown",
   "metadata": {},
   "source": [
    "#### Explicação sobre o gráfico acima."
   ]
  },
  {
   "cell_type": "markdown",
   "metadata": {},
   "source": [
    "#### Avaliando o modelo "
   ]
  },
  {
   "cell_type": "code",
   "execution_count": null,
   "metadata": {},
   "outputs": [],
   "source": [
    "RMSE = np.sqrt(mean_squared_error(eleicao[outcome], fitted))\n",
    "r2 = r2_score(eleicao[outcome], fitted)\n",
    "print(f'Root Mean Square Error (RMSE): {RMSE:.0f}')\n",
    "print(f'Coefficiente of determination (r2): {r2:.4f}')"
   ]
  },
  {
   "cell_type": "markdown",
   "metadata": {},
   "source": [
    "#### Explicação sobre a avaliação do modelo (Valor de receita e a quantidade de votos):"
   ]
  },
  {
   "cell_type": "code",
   "execution_count": null,
   "metadata": {},
   "outputs": [],
   "source": [
    "model = sm.OLS(eleicao[outcome], eleicao[predictors].assign(const=1))\n",
    "results = model.fit()\n",
    "results.summary()"
   ]
  },
  {
   "cell_type": "markdown",
   "metadata": {},
   "source": [
    "#### Explicações adicionais com o uso do results.summary()"
   ]
  },
  {
   "cell_type": "markdown",
   "metadata": {},
   "source": [
    "#### Analisando com relação ao valor de bens do candidato"
   ]
  },
  {
   "cell_type": "code",
   "execution_count": null,
   "metadata": {},
   "outputs": [],
   "source": [
    "eleicao['VR_BEM_CANDIDATO'].fillna(0)\n",
    "\n",
    "\n",
    "predictors = ['VR_BEM_CANDIDATO']\n",
    "outcome = 'QT_VOTOS'\n",
    "\n",
    "model = LinearRegression()\n",
    "model.fit(eleicao[predictors], eleicao[outcome])\n",
    "print(f'b0 (intercept): {model.intercept_:.2f}')\n",
    "print(f'b1 (coefficient): {model.coef_[0]:.2f}')"
   ]
  },
  {
   "cell_type": "markdown",
   "metadata": {},
   "source": [
    "#### Explicação sobre as variáveis de predição"
   ]
  },
  {
   "cell_type": "code",
   "execution_count": null,
   "metadata": {},
   "outputs": [],
   "source": [
    "fitted = model.predict(eleicao[predictors])\n",
    "residuals = eleicao[outcome] - fitted\n",
    "\n",
    "ax = eleicao.plot.scatter(x='VR_BEM_CANDIDATO', y='QT_VOTOS', figsize=(8, 4))\n",
    "ax.plot(eleicao.VR_BEM_CANDIDATO, fitted)\n",
    "for x, yactual, yfitted in zip(eleicao.VR_BEM_CANDIDATO, eleicao.QT_VOTOS, fitted): \n",
    "    ax.plot((x, x), (yactual, yfitted), '--', color='C1')\n",
    "\n",
    "plt.tight_layout()\n",
    "plt.show()"
   ]
  },
  {
   "cell_type": "markdown",
   "metadata": {},
   "source": [
    "#### Explicação sobre o gráfico acima"
   ]
  },
  {
   "cell_type": "markdown",
   "metadata": {},
   "source": [
    "#### Avaliando o modelo "
   ]
  },
  {
   "cell_type": "code",
   "execution_count": null,
   "metadata": {},
   "outputs": [],
   "source": [
    "RMSE = np.sqrt(mean_squared_error(eleicao[outcome], fitted))\n",
    "r2 = r2_score(eleicao[outcome], fitted)\n",
    "print(f'Root Mean Square Error (RMSE): {RMSE:.0f}')\n",
    "print(f'Coefficiente of determination (r2): {r2:.4f}')"
   ]
  },
  {
   "cell_type": "markdown",
   "metadata": {},
   "source": [
    "#### Explicação sobre a avaliação do modelo (Valor de bens declarados e a quantidade de votos):"
   ]
  },
  {
   "cell_type": "code",
   "execution_count": null,
   "metadata": {},
   "outputs": [],
   "source": [
    "model = sm.OLS(eleicao[outcome], eleicao[predictors].assign(const=1))\n",
    "results = model.fit()\n",
    "results.summary()"
   ]
  },
  {
   "cell_type": "markdown",
   "metadata": {},
   "source": [
    "#### Explicações adicionais com o uso do results.summary()"
   ]
  },
  {
   "cell_type": "markdown",
   "metadata": {},
   "source": [
    "### Analise utilizando regressão múltipla"
   ]
  },
  {
   "cell_type": "code",
   "execution_count": null,
   "metadata": {},
   "outputs": [],
   "source": [
    "\n",
    "dummy_siglas = pd.get_dummies(eleicao['SG_PARTIDO'], prefix='SG_PARTIDO', drop_first=True, dtype=int)\n",
    "dummy_genero = pd.get_dummies(eleicao['DS_GENERO'], prefix='GENERO', drop_first=True, dtype=int)\n",
    "dummy_cor_raca = pd.get_dummies(eleicao['DS_COR_RACA'], prefix='COR_RACA', drop_first=True, dtype=int)\n",
    "dummy_grau_instrucao = pd.get_dummies(eleicao['DS_GRAU_INSTRUCAO'], prefix='GRAU_INSTRUCAO', drop_first=True, dtype=int)\n",
    "dummy_estado_civil = pd.get_dummies(eleicao['DS_ESTADO_CIVIL'], prefix='ESTADO_CIVIL',drop_first=True, dtype=int)\n",
    "\n",
    "eleicao_com_dummy = pd.concat([eleicao,dummy_cor_raca, dummy_genero, dummy_grau_instrucao, dummy_estado_civil, dummy_siglas], axis=1)\n",
    "eleicao_com_dummy_sem_nulos = eleicao_com_dummy.fillna(0)\n",
    "\n",
    "predictors = ['NR_CANDIDATO', 'NR_IDADE_DATA_POSSE', 'COR_RACA_BRANCA', 'COR_RACA_INDÍGENA', 'COR_RACA_PARDA', 'COR_RACA_PRETA', 'GENERO_MASCULINO', 'GRAU_INSTRUCAO_ENSINO FUNDAMENTAL INCOMPLETO', 'GRAU_INSTRUCAO_ENSINO MÉDIO COMPLETO', 'GRAU_INSTRUCAO_ENSINO MÉDIO INCOMPLETO', 'GRAU_INSTRUCAO_LÊ E ESCREVE', 'GRAU_INSTRUCAO_SUPERIOR COMPLETO', 'GRAU_INSTRUCAO_SUPERIOR INCOMPLETO' , 'ESTADO_CIVIL_DIVORCIADO(A)', 'ESTADO_CIVIL_SEPARADO(A) JUDICIALMENTE', 'ESTADO_CIVIL_SOLTEIRO(A)', 'ESTADO_CIVIL_VIÚVO(A)','SG_PARTIDO_DC', 'SG_PARTIDO_MDB', 'SG_PARTIDO_PC do B', 'SG_PARTIDO_PDT', 'SG_PARTIDO_PL', 'SG_PARTIDO_PMB', 'SG_PARTIDO_PP', 'SG_PARTIDO_PROS', 'SG_PARTIDO_PRTB', 'SG_PARTIDO_PSB', 'SG_PARTIDO_PSD', 'SG_PARTIDO_PSDB', 'SG_PARTIDO_PSOL', 'SG_PARTIDO_PT', 'SG_PARTIDO_PTB', 'SG_PARTIDO_PV', 'SG_PARTIDO_REDE', 'SG_PARTIDO_REPUBLICANOS', 'SG_PARTIDO_SOLIDARIEDADE', 'SG_PARTIDO_UNIÃO', 'VR_RECEITA', 'VR_BEM_CANDIDATO']\n",
    "\n",
    "outcome = 'QT_VOTOS'\n",
    "\n",
    "model = LinearRegression()\n",
    "model.fit(eleicao_com_dummy_sem_nulos[predictors], eleicao_com_dummy_sem_nulos[outcome])\n",
    "\n",
    "print(f'Intercept: {model.intercept_:.3f}')\n",
    "print('Coefficients:')\n",
    "for name, coef in zip(predictors, model.coef_):\n",
    "    print(f' {name}: {coef}')\n",
    "    \n"
   ]
  },
  {
   "cell_type": "markdown",
   "metadata": {},
   "source": [
    "#### Explicação sobre os coeficientes:"
   ]
  },
  {
   "cell_type": "code",
   "execution_count": null,
   "metadata": {},
   "outputs": [],
   "source": [
    "fitted = model.predict(eleicao_com_dummy_sem_nulos[predictors])\n",
    "RMSE = np.sqrt(mean_squared_error(eleicao_com_dummy_sem_nulos[outcome], fitted))\n",
    "r2 = r2_score(eleicao_com_dummy_sem_nulos[outcome], fitted)\n",
    "print(f'Root Mean Square Error (RMSE): {RMSE:.0f}')\n",
    "print(f'Coefficiente of determination (r2): {r2:.4f}')"
   ]
  },
  {
   "cell_type": "markdown",
   "metadata": {},
   "source": [
    "#### Explicação sobre as medidas apresentadas do RMSE e o coeficiente de determinação (R²)"
   ]
  },
  {
   "cell_type": "code",
   "execution_count": null,
   "metadata": {},
   "outputs": [],
   "source": [
    "model = sm.OLS(eleicao_com_dummy_sem_nulos[outcome], eleicao_com_dummy_sem_nulos[predictors].assign(const=1))\n",
    "results = model.fit()\n",
    "results.summary()"
   ]
  },
  {
   "cell_type": "markdown",
   "metadata": {},
   "source": [
    "#### Explicação sobre alguns outros coeficientes mostrados:"
   ]
  },
  {
   "cell_type": "code",
   "execution_count": null,
   "metadata": {},
   "outputs": [],
   "source": [
    "dummy_genero = pd.get_dummies(eleicao['DS_GENERO'], prefix='GENERO', drop_first=True, dtype=int)\n",
    "dummy_estado_civil = pd.get_dummies(eleicao['DS_ESTADO_CIVIL'], prefix='ESTADO_CIVIL',drop_first=True, dtype=int)\n",
    "\n",
    "eleicao_com_dummy = pd.concat([eleicao, dummy_genero, dummy_estado_civil], axis=1)\n",
    "eleicao_com_dummy_sem_nulos = eleicao_com_dummy.fillna(0)\n",
    "\n",
    "predictors = ['GENERO_MASCULINO', 'ESTADO_CIVIL_SOLTEIRO(A)','VR_RECEITA']\n",
    "\n",
    "outcome = 'QT_VOTOS'\n",
    "\n",
    "model = LinearRegression()\n",
    "model.fit(eleicao_com_dummy_sem_nulos[predictors], eleicao_com_dummy_sem_nulos[outcome])\n",
    "\n",
    "print(f'Intercept: {model.intercept_:.3f}')\n",
    "print('Coefficients:')\n",
    "for name, coef in zip(predictors, model.coef_):\n",
    "    print(f' {name}: {coef}')"
   ]
  },
  {
   "cell_type": "code",
   "execution_count": null,
   "metadata": {},
   "outputs": [],
   "source": [
    "fitted = model.predict(eleicao_com_dummy_sem_nulos[predictors])\n",
    "RMSE = np.sqrt(mean_squared_error(eleicao_com_dummy_sem_nulos[outcome], fitted))\n",
    "r2 = r2_score(eleicao_com_dummy_sem_nulos[outcome], fitted)\n",
    "print(f'Root Mean Square Error (RMSE): {RMSE:.0f}')\n",
    "print(f'Coefficiente of determination (r2): {r2:.4f}')"
   ]
  },
  {
   "cell_type": "code",
   "execution_count": null,
   "metadata": {},
   "outputs": [],
   "source": [
    "model = sm.OLS(eleicao_com_dummy_sem_nulos[outcome], eleicao_com_dummy_sem_nulos[predictors].assign(const=1))\n",
    "results = model.fit()\n",
    "results.summary()"
   ]
  },
  {
   "cell_type": "markdown",
   "metadata": {},
   "source": [
    "\n",
    "### Exemplos de outras questões que podem ser discutidas"
   ]
  },
  {
   "cell_type": "markdown",
   "metadata": {},
   "source": [
    "### Quanto um candidato deve arrecadar no mínimo (receita) para ter mais chance de ser eleito?"
   ]
  },
  {
   "cell_type": "code",
   "execution_count": null,
   "metadata": {},
   "outputs": [],
   "source": [
    "candidatos_eleitos = eleicao[eleicao['DS_SIT_TOT_TURNO'].str.startswith('ELEITO')]\n",
    "candidatos_eleitos = candidatos_eleitos.fillna(0)\n",
    "media_receita = candidatos_eleitos['VR_RECEITA'].mean()\n",
    "minimo_receita = candidatos_eleitos['VR_RECEITA'].min()\n",
    "print(\"Valor médio da receita para candidatos eleitos: R$ {:.2f}\".format(media_receita))\n",
    "print(\"O valor minimo da receita para o candidato ser eleito é : R$ {:.2f}\".format(minimo_receita))\n"
   ]
  },
  {
   "cell_type": "markdown",
   "metadata": {},
   "source": [
    "#### Explicação sobre o que foi levantado:"
   ]
  },
  {
   "cell_type": "markdown",
   "metadata": {},
   "source": [
    "#### Considere um candidato fictício que arrecadou 100 mil reais de receita na campanha. Qual a previsão de votos que ele deve receber? É provável que ele seja eleito?"
   ]
  },
  {
   "cell_type": "code",
   "execution_count": null,
   "metadata": {},
   "outputs": [],
   "source": [
    "eleicao_copy = eleicao.copy()\n",
    "eleicao_copy['VR_RECEITA'] = eleicao['VR_RECEITA'].fillna(0)\n",
    "eleicao_copy['QT_VOTOS'] = eleicao['QT_VOTOS'].fillna(0)\n",
    "predictors = ['VR_RECEITA']\n",
    "outcome = 'QT_VOTOS'\n",
    "model = LinearRegression()\n",
    "model.fit(eleicao_copy[predictors], eleicao_copy[outcome])\n",
    "orcamento_campanha = 100000\n",
    "previsao_votos = model.predict([[orcamento_campanha]])\n",
    "print(f\"Número esperado de votos para um orçamento de R$ {orcamento_campanha:.2f} de campanha: {previsao_votos[0]:.2f} votos.\")\n",
    "\n"
   ]
  },
  {
   "cell_type": "markdown",
   "metadata": {},
   "source": [
    "#### Explicando o resultado da predição:"
   ]
  },
  {
   "cell_type": "markdown",
   "metadata": {},
   "source": [
    "#### Considere um candidato fictício que o candidato tinha 100 mil em valor de bens. Qual a previsão de votos que ele deve receber? É provável que ele seja eleito?"
   ]
  },
  {
   "cell_type": "code",
   "execution_count": null,
   "metadata": {},
   "outputs": [],
   "source": [
    "eleicao_copy = eleicao.copy()\n",
    "eleicao_copy['VR_BEM_CANDIDATO'] = eleicao['VR_BEM_CANDIDATO'].fillna(0)\n",
    "eleicao_copy['QT_VOTOS'] = eleicao['QT_VOTOS'].fillna(0)\n",
    "predictors = ['VR_BEM_CANDIDATO']\n",
    "outcome = 'QT_VOTOS'\n",
    "model = LinearRegression()\n",
    "model.fit(eleicao_copy[predictors], eleicao_copy[outcome])\n",
    "valor_bem_candidato = 100000\n",
    "previsao_votos = model.predict([[valor_bem_candidato]])\n",
    "print(f\"Número esperado de votos para um valor de bens do candidato de R$ {valor_bem_candidato:.2f} de campanha: {previsao_votos[0]:.2f} votos.\")\n"
   ]
  },
  {
   "cell_type": "markdown",
   "metadata": {},
   "source": [
    "#### Explicando o resultado da predição:"
   ]
  },
  {
   "cell_type": "markdown",
   "metadata": {},
   "source": [
    "### É possível estimar bem se um candidato vai ser eleito ou não com base em outras variáveis (ex: regressão logística com a situação final do candidato)?"
   ]
  },
  {
   "cell_type": "code",
   "execution_count": null,
   "metadata": {},
   "outputs": [],
   "source": [
    "from sklearn.linear_model import LogisticRegression\n",
    "\n",
    "eleicao_copy = eleicao.copy()\n",
    "categorias_interesse = ['ELEITO POR MÉDIA', 'NÃO ELEITO']\n",
    "eleicao_copy = eleicao_copy[eleicao_copy['DS_SIT_TOT_TURNO'].isin(categorias_interesse)]\n",
    "\n",
    "limites = [0, 5000, 10000, 15000, 20000, 25000, 30000, 50000, 100000, np.inf]\n",
    "categorias = ['0-5000', '5000-10000', '10000-15000', '15000-20000', '20000-25000', '25000-30000', '30000-50000', '50000-100000', '100000+']\n",
    "\n",
    "\n",
    "eleicao_copy['DS_SIT_TOT_TURNO'] = eleicao_copy['DS_SIT_TOT_TURNO'].astype('category')\n",
    "eleicao_copy['DS_SIT_TOT_TURNO'] = eleicao_copy['DS_SIT_TOT_TURNO'].cat.reorder_categories(['ELEITO POR MÉDIA', 'NÃO ELEITO'])\n",
    "eleicao_copy['DS_GENERO'] = eleicao_copy['DS_GENERO'].astype('category')\n",
    "eleicao_copy['DS_ESTADO_CIVIL'] = eleicao_copy['DS_ESTADO_CIVIL'].astype('category')\n",
    "eleicao_copy['DS_COR_RACA'] = eleicao_copy['DS_COR_RACA'].astype('category')\n",
    "eleicao_copy['VR_RECEITA'] = pd.cut(eleicao_copy['VR_RECEITA'], bins=limites, labels=categorias, right=False).astype('category')\n",
    "\n",
    "outcome = 'DS_SIT_TOT_TURNO'\n",
    "predictors  = ['DS_GENERO', 'DS_ESTADO_CIVIL', 'DS_COR_RACA', 'VR_RECEITA']\n",
    "eleicao_copy[[outcome] + predictors]\n",
    "\n",
    "X = pd.get_dummies(eleicao_copy[predictors], prefix='', prefix_sep='', \n",
    "                   drop_first=True)\n",
    "y = eleicao_copy[outcome] \n",
    "\n",
    "logit_reg = LogisticRegression(penalty='l2', C=1e42, solver='liblinear')\n",
    "logit_reg.fit(X, y)\n",
    "\n",
    "print('intercept ', logit_reg.intercept_[0])\n",
    "print('classes', logit_reg.classes_)\n",
    "pd.DataFrame({'coeff': logit_reg.coef_[0]}, \n",
    "             index=X.columns)\n"
   ]
  },
  {
   "cell_type": "markdown",
   "metadata": {},
   "source": [
    "#### Explicação sobre a regressão Logística em relação aos dados apresentados: (o valor negativo tende a ser para primeira classe)"
   ]
  },
  {
   "cell_type": "markdown",
   "metadata": {},
   "source": [
    "### Realizando a avaliação do modelo utilizando uma nova coluna que vai verificar se os candidatos foram eleitos ou não, caso seja eleito vai ficar 1 e caso não seja vai ficar 0."
   ]
  },
  {
   "cell_type": "code",
   "execution_count": null,
   "metadata": {},
   "outputs": [],
   "source": [
    "from sklearn.linear_model import LogisticRegression\n",
    "\n",
    "eleicao_copy = eleicao.copy()\n",
    "eleicao_copy['ELEITO'] = eleicao_copy['DS_SIT_TOT_TURNO'].apply(lambda x: 1 if x in ['ELEITO POR MÉDIA', 'ELEITO POR QP'] else 0)\n",
    "\n",
    "limites = [0, 5000, 10000, 15000, 20000, 25000, 30000, 50000, 100000, np.inf]\n",
    "categorias = ['0-5000', '5000-10000', '10000-15000', '15000-20000', '20000-25000', '25000-30000', '30000-50000', '50000-100000', '100000+']\n",
    "\n",
    "eleicao_copy['ELEITO'] = eleicao_copy['ELEITO'].astype('category')\n",
    "eleicao_copy.sort_values(by='ELEITO', ascending=False, inplace=True)\n",
    "eleicao_copy['DS_GENERO'] = eleicao_copy['DS_GENERO'].astype('category')\n",
    "eleicao_copy['DS_ESTADO_CIVIL'] = eleicao_copy['DS_ESTADO_CIVIL'].astype('category')\n",
    "eleicao_copy['DS_COR_RACA'] = eleicao_copy['DS_COR_RACA'].astype('category')\n",
    "eleicao_copy['VR_RECEITA'] = pd.cut(eleicao_copy['VR_RECEITA'], bins=limites, labels=categorias, right=False).astype('category')\n",
    "\n",
    "\n",
    "outcome = 'ELEITO'\n",
    "predictors  = ['DS_GENERO', 'DS_ESTADO_CIVIL', 'DS_COR_RACA', 'VR_RECEITA']\n",
    "eleicao_copy[[outcome] + predictors]\n",
    "\n",
    "X = pd.get_dummies(eleicao_copy[predictors], prefix='', prefix_sep='', \n",
    "                   drop_first=True)\n",
    "y = eleicao_copy[outcome] \n",
    "\n",
    "logit_reg = LogisticRegression(penalty='l2', C=1e42, solver='liblinear')\n",
    "logit_reg.fit(X, y)\n",
    "\n",
    "print('intercept ', logit_reg.intercept_[0])\n",
    "print('classes', logit_reg.classes_)\n",
    "pd.DataFrame({'coeff': logit_reg.coef_[0]}, \n",
    "             index=X.columns)"
   ]
  },
  {
   "cell_type": "markdown",
   "metadata": {},
   "source": [
    "#### Explicação sobre o que foi levantado:"
   ]
  }
 ],
 "metadata": {
  "kernelspec": {
   "display_name": "Python 3.9.13 64-bit",
   "language": "python",
   "name": "python3"
  },
  "language_info": {
   "codemirror_mode": {
    "name": "ipython",
    "version": 3
   },
   "file_extension": ".py",
   "mimetype": "text/x-python",
   "name": "python",
   "nbconvert_exporter": "python",
   "pygments_lexer": "ipython3",
   "version": "3.10.12"
  },
  "orig_nbformat": 4,
  "vscode": {
   "interpreter": {
    "hash": "aee8b7b246df8f9039afb4144a1f6fd8d2ca17a180786b69acc140d282b71a49"
   }
  }
 },
 "nbformat": 4,
 "nbformat_minor": 2
}
