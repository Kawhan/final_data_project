{
 "cells": [
  {
   "cell_type": "markdown",
   "metadata": {},
   "source": [
    "# Análise de Dados - UFPB\n",
    "\n",
    "**Professor** : Marcus Carvalho\n",
    "\n",
    "Aluno: Kawhan Laurindo de Lima\n",
    "\n",
    "# Projeto final\n",
    "\n",
    "Os dados utilizados são dados da eleição de 2020 que conta com várias informações da eleição municipal de toda paraiba, o objetivo é fazer uma analise para tentar identificar possíveis relações entre as variáveis e consequentemente aprimorar as analises.\n",
    "\n",
    "## Carregamento dos dados"
   ]
  },
  {
   "cell_type": "markdown",
   "metadata": {},
   "source": [
    "## Análise exploratória de dados\n",
    "\n",
    "Inicialmente, faça uma análise exploratória das variáveis que você considerar mais importantes para a análise."
   ]
  },
  {
   "cell_type": "markdown",
   "metadata": {},
   "source": [
    "#### Headers in data\n",
    "\n",
    "- `SQ_CANDIDATO` -> Número sequencial da candidata ou candidato, gerado\n",
    "internamente pelos sistemas eleitorais para cada eleição. \n",
    "- `ANO_ELEICAO` -> Ano de referência da eleição para geração do arquivo.\n",
    "- `SG_UF` -> Sigla da Unidade da Federação em que ocorreu a eleição.\n",
    "- `DS_CARGO` -> Descrição do cargo da candidata ou candidato.\n",
    "- `NR_CANDIDATO` -> Número da candidata ou candidato na urna\n",
    "- `NM_URNA_CANDIDATO` -> Nome da candidata ou candidato que aparece na urna.\n",
    "- `SG_PARTIDO` -> Sigla do partido de origem da candidata ou candidato.\n",
    "- `DT_NASCIMENTO` -> Data de nascimento da candidata ou candidato.\n",
    "- `NR_IDADE_DATA_POSSE` -> Idade da candidata ou candidato na data da posse.\n",
    "- `DS_GENERO` -> Gênero da candidata ouo candidato.\n",
    "- `DS_GRAU_INSTRUCAO` -> Grau de instrução da candidata ou candidato.\n",
    "- `DS_ESTADO_CIVIL` -> Estado civil da candidata ou candidato.\n",
    "- `DS_COR_RACA` -> Cor/raça da candidata ou candidato. (autodeclaração)\n",
    "- `DS_OCUPACAO` -> Ocupação da candidata ou candidato.\n",
    "- `VR_DESPESA_MAX_CAMPANHA` -> Valor máximo, em Reais, de despesas de campanha\n",
    "declarada pelo partido para aquela candidata ou candidato.\n",
    "- `DS_SIT_TOT_TURNO` -> Descrição da situação de totalização da candidata ou\n",
    "candidato naquele turno.\n",
    "- `QT_VOTOS` -> Quantidade total de votos do candidato\n",
    "- `VR_RECEITA`-> Valor total arrecadado pelo candidato para gastar na campanha (R$)\n",
    "- `VR_BEM_CANDIDATO` -> Valor total de todos os bens do candidato declarados para o TSE (R$)\n"
   ]
  },
  {
   "cell_type": "code",
   "execution_count": 2,
   "metadata": {},
   "outputs": [],
   "source": [
    "\n",
    "# Imports\n",
    "import pandas as pd\n",
    "from scipy.stats import trim_mean\n",
    "import seaborn as sns\n",
    "import matplotlib.pylab as plt\n",
    "import numpy as np\n",
    "from sklearn.linear_model import LinearRegression\n",
    "from sklearn.metrics import r2_score, mean_squared_error\n",
    "import statsmodels.api as sm"
   ]
  },
  {
   "cell_type": "code",
   "execution_count": 8,
   "metadata": {},
   "outputs": [],
   "source": [
    "# Open the data csv \n",
    "\n",
    "eleicao = (\n",
    "    pd.read_csv('dados/eleicao_2020_pb_prefeito.csv')\n",
    ")\n"
   ]
  },
  {
   "cell_type": "code",
   "execution_count": 9,
   "metadata": {},
   "outputs": [
    {
     "data": {
      "text/html": [
       "<div>\n",
       "<style scoped>\n",
       "    .dataframe tbody tr th:only-of-type {\n",
       "        vertical-align: middle;\n",
       "    }\n",
       "\n",
       "    .dataframe tbody tr th {\n",
       "        vertical-align: top;\n",
       "    }\n",
       "\n",
       "    .dataframe thead th {\n",
       "        text-align: right;\n",
       "    }\n",
       "</style>\n",
       "<table border=\"1\" class=\"dataframe\">\n",
       "  <thead>\n",
       "    <tr style=\"text-align: right;\">\n",
       "      <th></th>\n",
       "      <th>SQ_CANDIDATO</th>\n",
       "      <th>ANO_ELEICAO</th>\n",
       "      <th>SG_UF</th>\n",
       "      <th>DS_CARGO</th>\n",
       "      <th>NR_CANDIDATO</th>\n",
       "      <th>NM_URNA_CANDIDATO</th>\n",
       "      <th>SG_PARTIDO</th>\n",
       "      <th>DT_NASCIMENTO</th>\n",
       "      <th>NR_IDADE_DATA_POSSE</th>\n",
       "      <th>DS_GENERO</th>\n",
       "      <th>DS_GRAU_INSTRUCAO</th>\n",
       "      <th>DS_ESTADO_CIVIL</th>\n",
       "      <th>DS_COR_RACA</th>\n",
       "      <th>DS_OCUPACAO</th>\n",
       "      <th>DS_SIT_TOT_TURNO</th>\n",
       "      <th>QT_VOTOS</th>\n",
       "      <th>VR_RECEITA</th>\n",
       "      <th>VR_BEM_CANDIDATO</th>\n",
       "      <th>VR_DESPESA_MAX_CAMPANHA</th>\n",
       "    </tr>\n",
       "  </thead>\n",
       "  <tbody>\n",
       "    <tr>\n",
       "      <th>0</th>\n",
       "      <td>150000819779</td>\n",
       "      <td>2020</td>\n",
       "      <td>PB</td>\n",
       "      <td>PREFEITO</td>\n",
       "      <td>45</td>\n",
       "      <td>DR TALES</td>\n",
       "      <td>PSDB</td>\n",
       "      <td>06/11/1987</td>\n",
       "      <td>33</td>\n",
       "      <td>MASCULINO</td>\n",
       "      <td>SUPERIOR COMPLETO</td>\n",
       "      <td>CASADO(A)</td>\n",
       "      <td>PARDA</td>\n",
       "      <td>MÉDICO</td>\n",
       "      <td>ELEITO</td>\n",
       "      <td>0.0</td>\n",
       "      <td>121000.00</td>\n",
       "      <td>521442.23</td>\n",
       "      <td>123077.42</td>\n",
       "    </tr>\n",
       "    <tr>\n",
       "      <th>1</th>\n",
       "      <td>150001186018</td>\n",
       "      <td>2020</td>\n",
       "      <td>PB</td>\n",
       "      <td>PREFEITO</td>\n",
       "      <td>50</td>\n",
       "      <td>IVON DA BARRA</td>\n",
       "      <td>PSOL</td>\n",
       "      <td>28/05/1974</td>\n",
       "      <td>46</td>\n",
       "      <td>MASCULINO</td>\n",
       "      <td>ENSINO MÉDIO COMPLETO</td>\n",
       "      <td>SOLTEIRO(A)</td>\n",
       "      <td>PARDA</td>\n",
       "      <td>AGRICULTOR</td>\n",
       "      <td>NÃO ELEITO</td>\n",
       "      <td>0.0</td>\n",
       "      <td>978.59</td>\n",
       "      <td>0.00</td>\n",
       "      <td>123077.42</td>\n",
       "    </tr>\n",
       "    <tr>\n",
       "      <th>2</th>\n",
       "      <td>150000719904</td>\n",
       "      <td>2020</td>\n",
       "      <td>PB</td>\n",
       "      <td>PREFEITO</td>\n",
       "      <td>11</td>\n",
       "      <td>EUDIM DE DÉ</td>\n",
       "      <td>PP</td>\n",
       "      <td>07/12/1976</td>\n",
       "      <td>44</td>\n",
       "      <td>MASCULINO</td>\n",
       "      <td>ENSINO FUNDAMENTAL INCOMPLETO</td>\n",
       "      <td>CASADO(A)</td>\n",
       "      <td>BRANCA</td>\n",
       "      <td>OUTROS</td>\n",
       "      <td>ELEITO</td>\n",
       "      <td>0.0</td>\n",
       "      <td>82841.50</td>\n",
       "      <td>152000.00</td>\n",
       "      <td>625146.19</td>\n",
       "    </tr>\n",
       "    <tr>\n",
       "      <th>3</th>\n",
       "      <td>150001201835</td>\n",
       "      <td>2020</td>\n",
       "      <td>PB</td>\n",
       "      <td>PREFEITO</td>\n",
       "      <td>40</td>\n",
       "      <td>IVAN SOUSA</td>\n",
       "      <td>PSB</td>\n",
       "      <td>25/02/1958</td>\n",
       "      <td>62</td>\n",
       "      <td>MASCULINO</td>\n",
       "      <td>ENSINO MÉDIO COMPLETO</td>\n",
       "      <td>CASADO(A)</td>\n",
       "      <td>PARDA</td>\n",
       "      <td>AGRICULTOR</td>\n",
       "      <td>NÃO ELEITO</td>\n",
       "      <td>0.0</td>\n",
       "      <td>0.00</td>\n",
       "      <td>50000.00</td>\n",
       "      <td>123077.42</td>\n",
       "    </tr>\n",
       "    <tr>\n",
       "      <th>4</th>\n",
       "      <td>150001109271</td>\n",
       "      <td>2020</td>\n",
       "      <td>PB</td>\n",
       "      <td>PREFEITO</td>\n",
       "      <td>11</td>\n",
       "      <td>TÊTA</td>\n",
       "      <td>PP</td>\n",
       "      <td>25/11/1953</td>\n",
       "      <td>67</td>\n",
       "      <td>MASCULINO</td>\n",
       "      <td>SUPERIOR COMPLETO</td>\n",
       "      <td>CASADO(A)</td>\n",
       "      <td>PARDA</td>\n",
       "      <td>ODONTÓLOGO</td>\n",
       "      <td>#NULO#</td>\n",
       "      <td>0.0</td>\n",
       "      <td>950.00</td>\n",
       "      <td>337044.55</td>\n",
       "      <td>123077.42</td>\n",
       "    </tr>\n",
       "    <tr>\n",
       "      <th>...</th>\n",
       "      <td>...</td>\n",
       "      <td>...</td>\n",
       "      <td>...</td>\n",
       "      <td>...</td>\n",
       "      <td>...</td>\n",
       "      <td>...</td>\n",
       "      <td>...</td>\n",
       "      <td>...</td>\n",
       "      <td>...</td>\n",
       "      <td>...</td>\n",
       "      <td>...</td>\n",
       "      <td>...</td>\n",
       "      <td>...</td>\n",
       "      <td>...</td>\n",
       "      <td>...</td>\n",
       "      <td>...</td>\n",
       "      <td>...</td>\n",
       "      <td>...</td>\n",
       "      <td>...</td>\n",
       "    </tr>\n",
       "    <tr>\n",
       "      <th>650</th>\n",
       "      <td>150000816530</td>\n",
       "      <td>2020</td>\n",
       "      <td>PB</td>\n",
       "      <td>PREFEITO</td>\n",
       "      <td>11</td>\n",
       "      <td>IRIS</td>\n",
       "      <td>PP</td>\n",
       "      <td>21/04/1983</td>\n",
       "      <td>37</td>\n",
       "      <td>FEMININO</td>\n",
       "      <td>SUPERIOR COMPLETO</td>\n",
       "      <td>CASADO(A)</td>\n",
       "      <td>BRANCA</td>\n",
       "      <td>CONTADOR</td>\n",
       "      <td>NÃO ELEITO</td>\n",
       "      <td>0.0</td>\n",
       "      <td>99742.85</td>\n",
       "      <td>0.00</td>\n",
       "      <td>123077.42</td>\n",
       "    </tr>\n",
       "    <tr>\n",
       "      <th>651</th>\n",
       "      <td>150000719200</td>\n",
       "      <td>2020</td>\n",
       "      <td>PB</td>\n",
       "      <td>PREFEITO</td>\n",
       "      <td>15</td>\n",
       "      <td>NILVAN FERREIRA</td>\n",
       "      <td>MDB</td>\n",
       "      <td>10/05/1973</td>\n",
       "      <td>47</td>\n",
       "      <td>MASCULINO</td>\n",
       "      <td>SUPERIOR INCOMPLETO</td>\n",
       "      <td>CASADO(A)</td>\n",
       "      <td>PRETA</td>\n",
       "      <td>LOCUTOR E COMENTARISTA DE RÁDIO E TELEVISÃO E ...</td>\n",
       "      <td>NÃO ELEITO</td>\n",
       "      <td>0.0</td>\n",
       "      <td>1808450.00</td>\n",
       "      <td>915000.00</td>\n",
       "      <td>1123357.13</td>\n",
       "    </tr>\n",
       "    <tr>\n",
       "      <th>652</th>\n",
       "      <td>150001025588</td>\n",
       "      <td>2020</td>\n",
       "      <td>PB</td>\n",
       "      <td>PREFEITO</td>\n",
       "      <td>17</td>\n",
       "      <td>PROFESSOR LUIZ</td>\n",
       "      <td>PSL</td>\n",
       "      <td>08/01/1982</td>\n",
       "      <td>38</td>\n",
       "      <td>MASCULINO</td>\n",
       "      <td>SUPERIOR COMPLETO</td>\n",
       "      <td>CASADO(A)</td>\n",
       "      <td>BRANCA</td>\n",
       "      <td>PROFESSOR E INSTRUTOR DE FORMAÇÃO PROFISSIONAL</td>\n",
       "      <td>NÃO ELEITO</td>\n",
       "      <td>0.0</td>\n",
       "      <td>10187.00</td>\n",
       "      <td>0.00</td>\n",
       "      <td>301932.72</td>\n",
       "    </tr>\n",
       "    <tr>\n",
       "      <th>653</th>\n",
       "      <td>150001039855</td>\n",
       "      <td>2020</td>\n",
       "      <td>PB</td>\n",
       "      <td>PREFEITO</td>\n",
       "      <td>23</td>\n",
       "      <td>JOSILDA LOPES</td>\n",
       "      <td>CIDADANIA</td>\n",
       "      <td>08/01/1958</td>\n",
       "      <td>62</td>\n",
       "      <td>FEMININO</td>\n",
       "      <td>SUPERIOR COMPLETO</td>\n",
       "      <td>SEPARADO(A) JUDICIALMENTE</td>\n",
       "      <td>BRANCA</td>\n",
       "      <td>VEREADOR</td>\n",
       "      <td>NÃO ELEITO</td>\n",
       "      <td>0.0</td>\n",
       "      <td>43629.00</td>\n",
       "      <td>265000.00</td>\n",
       "      <td>123077.42</td>\n",
       "    </tr>\n",
       "    <tr>\n",
       "      <th>654</th>\n",
       "      <td>150000765373</td>\n",
       "      <td>2020</td>\n",
       "      <td>PB</td>\n",
       "      <td>PREFEITO</td>\n",
       "      <td>23</td>\n",
       "      <td>ALCIONE BELTRÃO</td>\n",
       "      <td>CIDADANIA</td>\n",
       "      <td>25/01/1954</td>\n",
       "      <td>66</td>\n",
       "      <td>FEMININO</td>\n",
       "      <td>SUPERIOR COMPLETO</td>\n",
       "      <td>VIÚVO(A)</td>\n",
       "      <td>PARDA</td>\n",
       "      <td>APOSENTADO (EXCETO SERVIDOR PÚBLICO)</td>\n",
       "      <td>NÃO ELEITO</td>\n",
       "      <td>0.0</td>\n",
       "      <td>101148.34</td>\n",
       "      <td>908722.05</td>\n",
       "      <td>123077.42</td>\n",
       "    </tr>\n",
       "  </tbody>\n",
       "</table>\n",
       "<p>655 rows × 19 columns</p>\n",
       "</div>"
      ],
      "text/plain": [
       "     SQ_CANDIDATO  ANO_ELEICAO SG_UF  DS_CARGO  NR_CANDIDATO  \\\n",
       "0    150000819779         2020    PB  PREFEITO            45   \n",
       "1    150001186018         2020    PB  PREFEITO            50   \n",
       "2    150000719904         2020    PB  PREFEITO            11   \n",
       "3    150001201835         2020    PB  PREFEITO            40   \n",
       "4    150001109271         2020    PB  PREFEITO            11   \n",
       "..            ...          ...   ...       ...           ...   \n",
       "650  150000816530         2020    PB  PREFEITO            11   \n",
       "651  150000719200         2020    PB  PREFEITO            15   \n",
       "652  150001025588         2020    PB  PREFEITO            17   \n",
       "653  150001039855         2020    PB  PREFEITO            23   \n",
       "654  150000765373         2020    PB  PREFEITO            23   \n",
       "\n",
       "    NM_URNA_CANDIDATO SG_PARTIDO DT_NASCIMENTO  NR_IDADE_DATA_POSSE  \\\n",
       "0            DR TALES       PSDB    06/11/1987                   33   \n",
       "1       IVON DA BARRA       PSOL    28/05/1974                   46   \n",
       "2         EUDIM DE DÉ         PP    07/12/1976                   44   \n",
       "3          IVAN SOUSA        PSB    25/02/1958                   62   \n",
       "4                TÊTA         PP    25/11/1953                   67   \n",
       "..                ...        ...           ...                  ...   \n",
       "650              IRIS         PP    21/04/1983                   37   \n",
       "651   NILVAN FERREIRA        MDB    10/05/1973                   47   \n",
       "652    PROFESSOR LUIZ        PSL    08/01/1982                   38   \n",
       "653     JOSILDA LOPES  CIDADANIA    08/01/1958                   62   \n",
       "654   ALCIONE BELTRÃO  CIDADANIA    25/01/1954                   66   \n",
       "\n",
       "     DS_GENERO              DS_GRAU_INSTRUCAO            DS_ESTADO_CIVIL  \\\n",
       "0    MASCULINO              SUPERIOR COMPLETO                  CASADO(A)   \n",
       "1    MASCULINO          ENSINO MÉDIO COMPLETO                SOLTEIRO(A)   \n",
       "2    MASCULINO  ENSINO FUNDAMENTAL INCOMPLETO                  CASADO(A)   \n",
       "3    MASCULINO          ENSINO MÉDIO COMPLETO                  CASADO(A)   \n",
       "4    MASCULINO              SUPERIOR COMPLETO                  CASADO(A)   \n",
       "..         ...                            ...                        ...   \n",
       "650   FEMININO              SUPERIOR COMPLETO                  CASADO(A)   \n",
       "651  MASCULINO            SUPERIOR INCOMPLETO                  CASADO(A)   \n",
       "652  MASCULINO              SUPERIOR COMPLETO                  CASADO(A)   \n",
       "653   FEMININO              SUPERIOR COMPLETO  SEPARADO(A) JUDICIALMENTE   \n",
       "654   FEMININO              SUPERIOR COMPLETO                   VIÚVO(A)   \n",
       "\n",
       "    DS_COR_RACA                                        DS_OCUPACAO  \\\n",
       "0         PARDA                                             MÉDICO   \n",
       "1         PARDA                                         AGRICULTOR   \n",
       "2        BRANCA                                             OUTROS   \n",
       "3         PARDA                                         AGRICULTOR   \n",
       "4         PARDA                                         ODONTÓLOGO   \n",
       "..          ...                                                ...   \n",
       "650      BRANCA                                           CONTADOR   \n",
       "651       PRETA  LOCUTOR E COMENTARISTA DE RÁDIO E TELEVISÃO E ...   \n",
       "652      BRANCA     PROFESSOR E INSTRUTOR DE FORMAÇÃO PROFISSIONAL   \n",
       "653      BRANCA                                           VEREADOR   \n",
       "654       PARDA               APOSENTADO (EXCETO SERVIDOR PÚBLICO)   \n",
       "\n",
       "    DS_SIT_TOT_TURNO  QT_VOTOS  VR_RECEITA  VR_BEM_CANDIDATO  \\\n",
       "0             ELEITO       0.0   121000.00         521442.23   \n",
       "1         NÃO ELEITO       0.0      978.59              0.00   \n",
       "2             ELEITO       0.0    82841.50         152000.00   \n",
       "3         NÃO ELEITO       0.0        0.00          50000.00   \n",
       "4             #NULO#       0.0      950.00         337044.55   \n",
       "..               ...       ...         ...               ...   \n",
       "650       NÃO ELEITO       0.0    99742.85              0.00   \n",
       "651       NÃO ELEITO       0.0  1808450.00         915000.00   \n",
       "652       NÃO ELEITO       0.0    10187.00              0.00   \n",
       "653       NÃO ELEITO       0.0    43629.00         265000.00   \n",
       "654       NÃO ELEITO       0.0   101148.34         908722.05   \n",
       "\n",
       "     VR_DESPESA_MAX_CAMPANHA  \n",
       "0                  123077.42  \n",
       "1                  123077.42  \n",
       "2                  625146.19  \n",
       "3                  123077.42  \n",
       "4                  123077.42  \n",
       "..                       ...  \n",
       "650                123077.42  \n",
       "651               1123357.13  \n",
       "652                301932.72  \n",
       "653                123077.42  \n",
       "654                123077.42  \n",
       "\n",
       "[655 rows x 19 columns]"
      ]
     },
     "execution_count": 9,
     "metadata": {},
     "output_type": "execute_result"
    }
   ],
   "source": [
    "# Limpando os dados (retirando os nulos)\n",
    "\n",
    "colunas_numericas = ['NR_IDADE_DATA_POSSE', 'VR_DESPESA_MAX_CAMPANHA', 'QT_VOTOS', 'VR_RECEITA', 'VR_BEM_CANDIDATO']\n",
    "\n",
    "eleicao[colunas_numericas] = eleicao[colunas_numericas].fillna(0)\n",
    "\n",
    "eleicao"
   ]
  },
  {
   "cell_type": "code",
   "execution_count": 42,
   "metadata": {},
   "outputs": [
    {
     "data": {
      "text/html": [
       "<div>\n",
       "<style scoped>\n",
       "    .dataframe tbody tr th:only-of-type {\n",
       "        vertical-align: middle;\n",
       "    }\n",
       "\n",
       "    .dataframe tbody tr th {\n",
       "        vertical-align: top;\n",
       "    }\n",
       "\n",
       "    .dataframe thead th {\n",
       "        text-align: right;\n",
       "    }\n",
       "</style>\n",
       "<table border=\"1\" class=\"dataframe\">\n",
       "  <thead>\n",
       "    <tr style=\"text-align: right;\">\n",
       "      <th></th>\n",
       "      <th>SQ_CANDIDATO</th>\n",
       "      <th>ANO_ELEICAO</th>\n",
       "      <th>SG_UF</th>\n",
       "      <th>DS_CARGO</th>\n",
       "      <th>NR_CANDIDATO</th>\n",
       "      <th>NM_URNA_CANDIDATO</th>\n",
       "      <th>SG_PARTIDO</th>\n",
       "      <th>DT_NASCIMENTO</th>\n",
       "      <th>NR_IDADE_DATA_POSSE</th>\n",
       "      <th>DS_GENERO</th>\n",
       "      <th>DS_GRAU_INSTRUCAO</th>\n",
       "      <th>DS_ESTADO_CIVIL</th>\n",
       "      <th>DS_COR_RACA</th>\n",
       "      <th>DS_OCUPACAO</th>\n",
       "      <th>DS_SIT_TOT_TURNO</th>\n",
       "      <th>QT_VOTOS</th>\n",
       "      <th>VR_RECEITA</th>\n",
       "      <th>VR_BEM_CANDIDATO</th>\n",
       "      <th>VR_DESPESA_MAX_CAMPANHA</th>\n",
       "      <th>PERCENTUAL_VOTOS</th>\n",
       "    </tr>\n",
       "  </thead>\n",
       "  <tbody>\n",
       "    <tr>\n",
       "      <th>1</th>\n",
       "      <td>150001186018</td>\n",
       "      <td>2020</td>\n",
       "      <td>PB</td>\n",
       "      <td>PREFEITO</td>\n",
       "      <td>50</td>\n",
       "      <td>IVON DA BARRA</td>\n",
       "      <td>PSOL</td>\n",
       "      <td>28/05/1974</td>\n",
       "      <td>46</td>\n",
       "      <td>MASCULINO</td>\n",
       "      <td>ENSINO MÉDIO COMPLETO</td>\n",
       "      <td>SOLTEIRO(A)</td>\n",
       "      <td>PARDA</td>\n",
       "      <td>AGRICULTOR</td>\n",
       "      <td>NÃO ELEITO</td>\n",
       "      <td>165.0</td>\n",
       "      <td>978.59</td>\n",
       "      <td>0.00</td>\n",
       "      <td>123077.42</td>\n",
       "      <td>0.005172</td>\n",
       "    </tr>\n",
       "    <tr>\n",
       "      <th>2</th>\n",
       "      <td>150000719904</td>\n",
       "      <td>2020</td>\n",
       "      <td>PB</td>\n",
       "      <td>PREFEITO</td>\n",
       "      <td>11</td>\n",
       "      <td>EUDIM DE DÉ</td>\n",
       "      <td>PP</td>\n",
       "      <td>07/12/1976</td>\n",
       "      <td>44</td>\n",
       "      <td>MASCULINO</td>\n",
       "      <td>ENSINO FUNDAMENTAL INCOMPLETO</td>\n",
       "      <td>CASADO(A)</td>\n",
       "      <td>BRANCA</td>\n",
       "      <td>OUTROS</td>\n",
       "      <td>ELEITO</td>\n",
       "      <td>3927.0</td>\n",
       "      <td>82841.50</td>\n",
       "      <td>152000.00</td>\n",
       "      <td>625146.19</td>\n",
       "      <td>0.123089</td>\n",
       "    </tr>\n",
       "    <tr>\n",
       "      <th>5</th>\n",
       "      <td>150000694786</td>\n",
       "      <td>2020</td>\n",
       "      <td>PB</td>\n",
       "      <td>PREFEITO</td>\n",
       "      <td>45</td>\n",
       "      <td>LAELSON</td>\n",
       "      <td>PSDB</td>\n",
       "      <td>24/10/1972</td>\n",
       "      <td>48</td>\n",
       "      <td>MASCULINO</td>\n",
       "      <td>SUPERIOR COMPLETO</td>\n",
       "      <td>CASADO(A)</td>\n",
       "      <td>BRANCA</td>\n",
       "      <td>PROFESSOR DE ENSINO MÉDIO</td>\n",
       "      <td>ELEITO</td>\n",
       "      <td>2635.0</td>\n",
       "      <td>39700.00</td>\n",
       "      <td>0.00</td>\n",
       "      <td>123077.42</td>\n",
       "      <td>0.082592</td>\n",
       "    </tr>\n",
       "    <tr>\n",
       "      <th>6</th>\n",
       "      <td>150000922448</td>\n",
       "      <td>2020</td>\n",
       "      <td>PB</td>\n",
       "      <td>PREFEITO</td>\n",
       "      <td>25</td>\n",
       "      <td>DR ALAN MOURA</td>\n",
       "      <td>DEM</td>\n",
       "      <td>15/03/1982</td>\n",
       "      <td>38</td>\n",
       "      <td>MASCULINO</td>\n",
       "      <td>SUPERIOR COMPLETO</td>\n",
       "      <td>SOLTEIRO(A)</td>\n",
       "      <td>PARDA</td>\n",
       "      <td>MÉDICO</td>\n",
       "      <td>NÃO ELEITO</td>\n",
       "      <td>3091.0</td>\n",
       "      <td>102200.00</td>\n",
       "      <td>1610000.00</td>\n",
       "      <td>123077.42</td>\n",
       "      <td>0.096885</td>\n",
       "    </tr>\n",
       "    <tr>\n",
       "      <th>7</th>\n",
       "      <td>150000865680</td>\n",
       "      <td>2020</td>\n",
       "      <td>PB</td>\n",
       "      <td>PREFEITO</td>\n",
       "      <td>77</td>\n",
       "      <td>DR JUNIOR</td>\n",
       "      <td>SOLIDARIEDADE</td>\n",
       "      <td>21/02/1964</td>\n",
       "      <td>56</td>\n",
       "      <td>MASCULINO</td>\n",
       "      <td>SUPERIOR COMPLETO</td>\n",
       "      <td>CASADO(A)</td>\n",
       "      <td>BRANCA</td>\n",
       "      <td>MÉDICO</td>\n",
       "      <td>ELEITO</td>\n",
       "      <td>9789.0</td>\n",
       "      <td>258430.90</td>\n",
       "      <td>1755417.35</td>\n",
       "      <td>320066.19</td>\n",
       "      <td>0.306830</td>\n",
       "    </tr>\n",
       "    <tr>\n",
       "      <th>...</th>\n",
       "      <td>...</td>\n",
       "      <td>...</td>\n",
       "      <td>...</td>\n",
       "      <td>...</td>\n",
       "      <td>...</td>\n",
       "      <td>...</td>\n",
       "      <td>...</td>\n",
       "      <td>...</td>\n",
       "      <td>...</td>\n",
       "      <td>...</td>\n",
       "      <td>...</td>\n",
       "      <td>...</td>\n",
       "      <td>...</td>\n",
       "      <td>...</td>\n",
       "      <td>...</td>\n",
       "      <td>...</td>\n",
       "      <td>...</td>\n",
       "      <td>...</td>\n",
       "      <td>...</td>\n",
       "      <td>...</td>\n",
       "    </tr>\n",
       "    <tr>\n",
       "      <th>650</th>\n",
       "      <td>150000816530</td>\n",
       "      <td>2020</td>\n",
       "      <td>PB</td>\n",
       "      <td>PREFEITO</td>\n",
       "      <td>11</td>\n",
       "      <td>IRIS</td>\n",
       "      <td>PP</td>\n",
       "      <td>21/04/1983</td>\n",
       "      <td>37</td>\n",
       "      <td>FEMININO</td>\n",
       "      <td>SUPERIOR COMPLETO</td>\n",
       "      <td>CASADO(A)</td>\n",
       "      <td>BRANCA</td>\n",
       "      <td>CONTADOR</td>\n",
       "      <td>NÃO ELEITO</td>\n",
       "      <td>3202.0</td>\n",
       "      <td>99742.85</td>\n",
       "      <td>0.00</td>\n",
       "      <td>123077.42</td>\n",
       "      <td>0.100365</td>\n",
       "    </tr>\n",
       "    <tr>\n",
       "      <th>651</th>\n",
       "      <td>150000719200</td>\n",
       "      <td>2020</td>\n",
       "      <td>PB</td>\n",
       "      <td>PREFEITO</td>\n",
       "      <td>15</td>\n",
       "      <td>NILVAN FERREIRA</td>\n",
       "      <td>MDB</td>\n",
       "      <td>10/05/1973</td>\n",
       "      <td>47</td>\n",
       "      <td>MASCULINO</td>\n",
       "      <td>SUPERIOR INCOMPLETO</td>\n",
       "      <td>CASADO(A)</td>\n",
       "      <td>PRETA</td>\n",
       "      <td>LOCUTOR E COMENTARISTA DE RÁDIO E TELEVISÃO E ...</td>\n",
       "      <td>NÃO ELEITO</td>\n",
       "      <td>223645.0</td>\n",
       "      <td>1808450.00</td>\n",
       "      <td>915000.00</td>\n",
       "      <td>1123357.13</td>\n",
       "      <td>7.010002</td>\n",
       "    </tr>\n",
       "    <tr>\n",
       "      <th>652</th>\n",
       "      <td>150001025588</td>\n",
       "      <td>2020</td>\n",
       "      <td>PB</td>\n",
       "      <td>PREFEITO</td>\n",
       "      <td>17</td>\n",
       "      <td>PROFESSOR LUIZ</td>\n",
       "      <td>PSL</td>\n",
       "      <td>08/01/1982</td>\n",
       "      <td>38</td>\n",
       "      <td>MASCULINO</td>\n",
       "      <td>SUPERIOR COMPLETO</td>\n",
       "      <td>CASADO(A)</td>\n",
       "      <td>BRANCA</td>\n",
       "      <td>PROFESSOR E INSTRUTOR DE FORMAÇÃO PROFISSIONAL</td>\n",
       "      <td>NÃO ELEITO</td>\n",
       "      <td>184.0</td>\n",
       "      <td>10187.00</td>\n",
       "      <td>0.00</td>\n",
       "      <td>301932.72</td>\n",
       "      <td>0.005767</td>\n",
       "    </tr>\n",
       "    <tr>\n",
       "      <th>653</th>\n",
       "      <td>150001039855</td>\n",
       "      <td>2020</td>\n",
       "      <td>PB</td>\n",
       "      <td>PREFEITO</td>\n",
       "      <td>23</td>\n",
       "      <td>JOSILDA LOPES</td>\n",
       "      <td>CIDADANIA</td>\n",
       "      <td>08/01/1958</td>\n",
       "      <td>62</td>\n",
       "      <td>FEMININO</td>\n",
       "      <td>SUPERIOR COMPLETO</td>\n",
       "      <td>SEPARADO(A) JUDICIALMENTE</td>\n",
       "      <td>BRANCA</td>\n",
       "      <td>VEREADOR</td>\n",
       "      <td>NÃO ELEITO</td>\n",
       "      <td>2080.0</td>\n",
       "      <td>43629.00</td>\n",
       "      <td>265000.00</td>\n",
       "      <td>123077.42</td>\n",
       "      <td>0.065196</td>\n",
       "    </tr>\n",
       "    <tr>\n",
       "      <th>654</th>\n",
       "      <td>150000765373</td>\n",
       "      <td>2020</td>\n",
       "      <td>PB</td>\n",
       "      <td>PREFEITO</td>\n",
       "      <td>23</td>\n",
       "      <td>ALCIONE BELTRÃO</td>\n",
       "      <td>CIDADANIA</td>\n",
       "      <td>25/01/1954</td>\n",
       "      <td>66</td>\n",
       "      <td>FEMININO</td>\n",
       "      <td>SUPERIOR COMPLETO</td>\n",
       "      <td>VIÚVO(A)</td>\n",
       "      <td>PARDA</td>\n",
       "      <td>APOSENTADO (EXCETO SERVIDOR PÚBLICO)</td>\n",
       "      <td>NÃO ELEITO</td>\n",
       "      <td>4184.0</td>\n",
       "      <td>101148.34</td>\n",
       "      <td>908722.05</td>\n",
       "      <td>123077.42</td>\n",
       "      <td>0.131145</td>\n",
       "    </tr>\n",
       "  </tbody>\n",
       "</table>\n",
       "<p>631 rows × 20 columns</p>\n",
       "</div>"
      ],
      "text/plain": [
       "     SQ_CANDIDATO  ANO_ELEICAO SG_UF  DS_CARGO  NR_CANDIDATO  \\\n",
       "1    150001186018         2020    PB  PREFEITO            50   \n",
       "2    150000719904         2020    PB  PREFEITO            11   \n",
       "5    150000694786         2020    PB  PREFEITO            45   \n",
       "6    150000922448         2020    PB  PREFEITO            25   \n",
       "7    150000865680         2020    PB  PREFEITO            77   \n",
       "..            ...          ...   ...       ...           ...   \n",
       "650  150000816530         2020    PB  PREFEITO            11   \n",
       "651  150000719200         2020    PB  PREFEITO            15   \n",
       "652  150001025588         2020    PB  PREFEITO            17   \n",
       "653  150001039855         2020    PB  PREFEITO            23   \n",
       "654  150000765373         2020    PB  PREFEITO            23   \n",
       "\n",
       "    NM_URNA_CANDIDATO     SG_PARTIDO DT_NASCIMENTO  NR_IDADE_DATA_POSSE  \\\n",
       "1       IVON DA BARRA           PSOL    28/05/1974                   46   \n",
       "2         EUDIM DE DÉ             PP    07/12/1976                   44   \n",
       "5             LAELSON           PSDB    24/10/1972                   48   \n",
       "6       DR ALAN MOURA            DEM    15/03/1982                   38   \n",
       "7           DR JUNIOR  SOLIDARIEDADE    21/02/1964                   56   \n",
       "..                ...            ...           ...                  ...   \n",
       "650              IRIS             PP    21/04/1983                   37   \n",
       "651   NILVAN FERREIRA            MDB    10/05/1973                   47   \n",
       "652    PROFESSOR LUIZ            PSL    08/01/1982                   38   \n",
       "653     JOSILDA LOPES      CIDADANIA    08/01/1958                   62   \n",
       "654   ALCIONE BELTRÃO      CIDADANIA    25/01/1954                   66   \n",
       "\n",
       "     DS_GENERO              DS_GRAU_INSTRUCAO            DS_ESTADO_CIVIL  \\\n",
       "1    MASCULINO          ENSINO MÉDIO COMPLETO                SOLTEIRO(A)   \n",
       "2    MASCULINO  ENSINO FUNDAMENTAL INCOMPLETO                  CASADO(A)   \n",
       "5    MASCULINO              SUPERIOR COMPLETO                  CASADO(A)   \n",
       "6    MASCULINO              SUPERIOR COMPLETO                SOLTEIRO(A)   \n",
       "7    MASCULINO              SUPERIOR COMPLETO                  CASADO(A)   \n",
       "..         ...                            ...                        ...   \n",
       "650   FEMININO              SUPERIOR COMPLETO                  CASADO(A)   \n",
       "651  MASCULINO            SUPERIOR INCOMPLETO                  CASADO(A)   \n",
       "652  MASCULINO              SUPERIOR COMPLETO                  CASADO(A)   \n",
       "653   FEMININO              SUPERIOR COMPLETO  SEPARADO(A) JUDICIALMENTE   \n",
       "654   FEMININO              SUPERIOR COMPLETO                   VIÚVO(A)   \n",
       "\n",
       "    DS_COR_RACA                                        DS_OCUPACAO  \\\n",
       "1         PARDA                                         AGRICULTOR   \n",
       "2        BRANCA                                             OUTROS   \n",
       "5        BRANCA                          PROFESSOR DE ENSINO MÉDIO   \n",
       "6         PARDA                                             MÉDICO   \n",
       "7        BRANCA                                             MÉDICO   \n",
       "..          ...                                                ...   \n",
       "650      BRANCA                                           CONTADOR   \n",
       "651       PRETA  LOCUTOR E COMENTARISTA DE RÁDIO E TELEVISÃO E ...   \n",
       "652      BRANCA     PROFESSOR E INSTRUTOR DE FORMAÇÃO PROFISSIONAL   \n",
       "653      BRANCA                                           VEREADOR   \n",
       "654       PARDA               APOSENTADO (EXCETO SERVIDOR PÚBLICO)   \n",
       "\n",
       "    DS_SIT_TOT_TURNO  QT_VOTOS  VR_RECEITA  VR_BEM_CANDIDATO  \\\n",
       "1         NÃO ELEITO     165.0      978.59              0.00   \n",
       "2             ELEITO    3927.0    82841.50         152000.00   \n",
       "5             ELEITO    2635.0    39700.00              0.00   \n",
       "6         NÃO ELEITO    3091.0   102200.00        1610000.00   \n",
       "7             ELEITO    9789.0   258430.90        1755417.35   \n",
       "..               ...       ...         ...               ...   \n",
       "650       NÃO ELEITO    3202.0    99742.85              0.00   \n",
       "651       NÃO ELEITO  223645.0  1808450.00         915000.00   \n",
       "652       NÃO ELEITO     184.0    10187.00              0.00   \n",
       "653       NÃO ELEITO    2080.0    43629.00         265000.00   \n",
       "654       NÃO ELEITO    4184.0   101148.34         908722.05   \n",
       "\n",
       "     VR_DESPESA_MAX_CAMPANHA  PERCENTUAL_VOTOS  \n",
       "1                  123077.42          0.005172  \n",
       "2                  625146.19          0.123089  \n",
       "5                  123077.42          0.082592  \n",
       "6                  123077.42          0.096885  \n",
       "7                  320066.19          0.306830  \n",
       "..                       ...               ...  \n",
       "650                123077.42          0.100365  \n",
       "651               1123357.13          7.010002  \n",
       "652                301932.72          0.005767  \n",
       "653                123077.42          0.065196  \n",
       "654                123077.42          0.131145  \n",
       "\n",
       "[631 rows x 20 columns]"
      ]
     },
     "execution_count": 42,
     "metadata": {},
     "output_type": "execute_result"
    }
   ],
   "source": [
    "\n",
    "# Criando a coluna do percentual de cada candidato\n",
    "\n",
    "total_votos_eleicao = eleicao['QT_VOTOS'].sum()\n",
    "eleicao['PERCENTUAL_VOTOS'] = (eleicao['QT_VOTOS'] / total_votos_eleicao) * 100\n",
    "\n",
    "eleicao[eleicao['QT_VOTOS'] > 0]"
   ]
  },
  {
   "cell_type": "markdown",
   "metadata": {},
   "source": [
    "### Distribuição do percentual de votos"
   ]
  },
  {
   "cell_type": "code",
   "execution_count": 43,
   "metadata": {},
   "outputs": [
    {
     "data": {
      "image/png": "[encoded data removed]",
      "text/plain": [
       "<Figure size 500x400 with 1 Axes>"
      ]
     },
     "metadata": {},
     "output_type": "display_data"
    }
   ],
   "source": [
    "percentual = eleicao['PERCENTUAL_VOTOS']\n",
    "\n",
    "binPop = pd.cut(percentual, 10)\n",
    "binPop.value_counts()\n",
    "\n",
    "ax = percentual.plot.hist(figsize=(5, 4))\n",
    "ax = ax.set_xlabel('Percentual of votos %')"
   ]
  },
  {
   "cell_type": "markdown",
   "metadata": {},
   "source": [
    "#### Explicação sobre o gráfico"
   ]
  },
  {
   "cell_type": "markdown",
   "metadata": {},
   "source": [
    "### Boxplot para identificar possíveis outliers no percentual"
   ]
  },
  {
   "cell_type": "code",
   "execution_count": 12,
   "metadata": {},
   "outputs": [
    {
     "data": {
      "image/png": "[encoded data removed]",
      "text/plain": [
       "<Figure size 640x480 with 1 Axes>"
      ]
     },
     "metadata": {},
     "output_type": "display_data"
    }
   ],
   "source": [
    "ax = percentual.plot.box()"
   ]
  },
  {
   "cell_type": "markdown",
   "metadata": {},
   "source": [
    "#### Explicação sobre o gráfico"
   ]
  },
  {
   "cell_type": "markdown",
   "metadata": {},
   "source": [
    "### Medidas de centralidade "
   ]
  },
  {
   "cell_type": "code",
   "execution_count": 13,
   "metadata": {},
   "outputs": [
    {
     "name": "stdout",
     "output_type": "stream",
     "text": [
      "Média aritmética = 0.15267175572519087\n",
      "Moda = 0.0\n",
      "Mediana = 0.06461882722623292\n",
      "Média truncada = 0.07214994920941985\n"
     ]
    },
    {
     "data": {
      "text/plain": [
       "count    655.000000\n",
       "mean       0.152672\n",
       "std        0.622976\n",
       "min        0.000000\n",
       "25%        0.023570\n",
       "50%        0.064619\n",
       "75%        0.114453\n",
       "max        8.164744\n",
       "Name: PERCENTUAL_VOTOS, dtype: float64"
      ]
     },
     "execution_count": 13,
     "metadata": {},
     "output_type": "execute_result"
    }
   ],
   "source": [
    "print(f\"Média aritmética = {percentual.mean()}\")\n",
    "print(f\"Moda = {percentual.mode()[0]}\")\n",
    "print(f\"Mediana = {percentual.median()}\")\n",
    "print(f\"Média truncada = {trim_mean(percentual, 0.1)}\")\n",
    "\n",
    "\n",
    "percentual.describe()"
   ]
  },
  {
   "cell_type": "markdown",
   "metadata": {},
   "source": [
    "#### Explicação sobre as médidas de centralidade"
   ]
  },
  {
   "cell_type": "markdown",
   "metadata": {},
   "source": [
    "### Qual foi o candidato mais votado segundo o percentual?"
   ]
  },
  {
   "cell_type": "code",
   "execution_count": 39,
   "metadata": {},
   "outputs": [
    {
     "data": {
      "text/html": [
       "<div>\n",
       "<style scoped>\n",
       "    .dataframe tbody tr th:only-of-type {\n",
       "        vertical-align: middle;\n",
       "    }\n",
       "\n",
       "    .dataframe tbody tr th {\n",
       "        vertical-align: top;\n",
       "    }\n",
       "\n",
       "    .dataframe thead th {\n",
       "        text-align: right;\n",
       "    }\n",
       "</style>\n",
       "<table border=\"1\" class=\"dataframe\">\n",
       "  <thead>\n",
       "    <tr style=\"text-align: right;\">\n",
       "      <th></th>\n",
       "      <th>SQ_CANDIDATO</th>\n",
       "      <th>ANO_ELEICAO</th>\n",
       "      <th>SG_UF</th>\n",
       "      <th>DS_CARGO</th>\n",
       "      <th>NR_CANDIDATO</th>\n",
       "      <th>NM_URNA_CANDIDATO</th>\n",
       "      <th>SG_PARTIDO</th>\n",
       "      <th>DT_NASCIMENTO</th>\n",
       "      <th>NR_IDADE_DATA_POSSE</th>\n",
       "      <th>DS_GENERO</th>\n",
       "      <th>DS_GRAU_INSTRUCAO</th>\n",
       "      <th>DS_ESTADO_CIVIL</th>\n",
       "      <th>DS_COR_RACA</th>\n",
       "      <th>DS_OCUPACAO</th>\n",
       "      <th>DS_SIT_TOT_TURNO</th>\n",
       "      <th>QT_VOTOS</th>\n",
       "      <th>VR_RECEITA</th>\n",
       "      <th>VR_BEM_CANDIDATO</th>\n",
       "      <th>VR_DESPESA_MAX_CAMPANHA</th>\n",
       "      <th>PERCENTUAL_VOTOS</th>\n",
       "    </tr>\n",
       "  </thead>\n",
       "  <tbody>\n",
       "    <tr>\n",
       "      <th>262</th>\n",
       "      <td>150000976695</td>\n",
       "      <td>2020</td>\n",
       "      <td>PB</td>\n",
       "      <td>PREFEITO</td>\n",
       "      <td>11</td>\n",
       "      <td>CICERO LUCENA</td>\n",
       "      <td>PP</td>\n",
       "      <td>05/08/1957</td>\n",
       "      <td>63</td>\n",
       "      <td>MASCULINO</td>\n",
       "      <td>ENSINO MÉDIO COMPLETO</td>\n",
       "      <td>CASADO(A)</td>\n",
       "      <td>PARDA</td>\n",
       "      <td>OUTROS</td>\n",
       "      <td>ELEITO</td>\n",
       "      <td>260665.0</td>\n",
       "      <td>2894067.98</td>\n",
       "      <td>1867828.46</td>\n",
       "      <td>1123357.13</td>\n",
       "      <td>8.164744</td>\n",
       "    </tr>\n",
       "    <tr>\n",
       "      <th>412</th>\n",
       "      <td>150000976695</td>\n",
       "      <td>2020</td>\n",
       "      <td>PB</td>\n",
       "      <td>PREFEITO</td>\n",
       "      <td>11</td>\n",
       "      <td>CICERO LUCENA</td>\n",
       "      <td>PP</td>\n",
       "      <td>05/08/1957</td>\n",
       "      <td>63</td>\n",
       "      <td>MASCULINO</td>\n",
       "      <td>ENSINO MÉDIO COMPLETO</td>\n",
       "      <td>CASADO(A)</td>\n",
       "      <td>PARDA</td>\n",
       "      <td>OUTROS</td>\n",
       "      <td>2º TURNO</td>\n",
       "      <td>260665.0</td>\n",
       "      <td>2894067.98</td>\n",
       "      <td>1867828.46</td>\n",
       "      <td>2808392.83</td>\n",
       "      <td>8.164744</td>\n",
       "    </tr>\n",
       "  </tbody>\n",
       "</table>\n",
       "</div>"
      ],
      "text/plain": [
       "     SQ_CANDIDATO  ANO_ELEICAO SG_UF  DS_CARGO  NR_CANDIDATO  \\\n",
       "262  150000976695         2020    PB  PREFEITO            11   \n",
       "412  150000976695         2020    PB  PREFEITO            11   \n",
       "\n",
       "    NM_URNA_CANDIDATO SG_PARTIDO DT_NASCIMENTO  NR_IDADE_DATA_POSSE  \\\n",
       "262     CICERO LUCENA         PP    05/08/1957                   63   \n",
       "412     CICERO LUCENA         PP    05/08/1957                   63   \n",
       "\n",
       "     DS_GENERO      DS_GRAU_INSTRUCAO DS_ESTADO_CIVIL DS_COR_RACA DS_OCUPACAO  \\\n",
       "262  MASCULINO  ENSINO MÉDIO COMPLETO       CASADO(A)       PARDA      OUTROS   \n",
       "412  MASCULINO  ENSINO MÉDIO COMPLETO       CASADO(A)       PARDA      OUTROS   \n",
       "\n",
       "    DS_SIT_TOT_TURNO  QT_VOTOS  VR_RECEITA  VR_BEM_CANDIDATO  \\\n",
       "262           ELEITO  260665.0  2894067.98        1867828.46   \n",
       "412         2º TURNO  260665.0  2894067.98        1867828.46   \n",
       "\n",
       "     VR_DESPESA_MAX_CAMPANHA  PERCENTUAL_VOTOS  \n",
       "262               1123357.13          8.164744  \n",
       "412               2808392.83          8.164744  "
      ]
     },
     "execution_count": 39,
     "metadata": {},
     "output_type": "execute_result"
    }
   ],
   "source": [
    "# Pessoa que obteve mais votos\n",
    "\n",
    "most_popular = percentual.max()\n",
    "eleicao[percentual == most_popular]"
   ]
  },
  {
   "cell_type": "markdown",
   "metadata": {},
   "source": [
    "#### Explicação sobre a pessoa mais votada\n"
   ]
  },
  {
   "cell_type": "markdown",
   "metadata": {},
   "source": [
    "### Qual foi o candidato menos votado?"
   ]
  },
  {
   "cell_type": "code",
   "execution_count": null,
   "metadata": {},
   "outputs": [],
   "source": [
    "less_popular = num_votos.min()\n",
    "eleicao[num_votos == less_popular]"
   ]
  },
  {
   "cell_type": "markdown",
   "metadata": {},
   "source": [
    "#### Explicação sobre os candidatos menos votados"
   ]
  },
  {
   "cell_type": "markdown",
   "metadata": {},
   "source": [
    "### Analise a dispersão de valor de receita"
   ]
  },
  {
   "cell_type": "code",
   "execution_count": null,
   "metadata": {},
   "outputs": [],
   "source": [
    "vr_receita = eleicao['VR_RECEITA']\n",
    "vr_receita.fillna(0, inplace=True)\n",
    "vr_receita_millions = vr_receita / 1000000\n",
    "\n",
    "binPop = pd.cut(vr_receita_millions, 10)\n",
    "binPop.value_counts()\n",
    "\n",
    "ax = vr_receita_millions.plot.hist(figsize=(5, 4))\n",
    "ax = ax.set_xlabel('Revenue Value (Millions) R$')"
   ]
  },
  {
   "cell_type": "markdown",
   "metadata": {},
   "source": [
    "#### Explicação sobre a dispesão de valores arrecadados pelo usuário para sua campanha"
   ]
  },
  {
   "cell_type": "code",
   "execution_count": null,
   "metadata": {},
   "outputs": [],
   "source": [
    "vr_receita.plot.box()"
   ]
  },
  {
   "cell_type": "markdown",
   "metadata": {},
   "source": [
    "#### Explicação sobre o gráfico de boxplot"
   ]
  },
  {
   "cell_type": "markdown",
   "metadata": {},
   "source": [
    "### Médidas de centralidade valor de receita\n",
    "\n"
   ]
  },
  {
   "cell_type": "code",
   "execution_count": null,
   "metadata": {},
   "outputs": [],
   "source": [
    "print(f\"Média = {vr_receita.mean()}\")\n",
    "print(f\"Moda = {vr_receita.mode()[0]}\")\n",
    "print(f\"Mediana = {vr_receita.median()}\")\n",
    "print(f\"Média truncada = {trim_mean(vr_receita, 0.1)}\")    \n",
    "\n",
    "pd.set_option('display.float_format', lambda x: '%.2f' % x)\n",
    "vr_receita.describe()"
   ]
  },
  {
   "cell_type": "markdown",
   "metadata": {},
   "source": [
    "#### Explicação sobre as médidas de centralidade:"
   ]
  },
  {
   "cell_type": "code",
   "execution_count": 45,
   "metadata": {},
   "outputs": [],
   "source": [
    "\n",
    "# Resetando a configuração de formato de números\n",
    "pd.reset_option('display.float_format')"
   ]
  },
  {
   "cell_type": "markdown",
   "metadata": {},
   "source": [
    "### Qual seria o candidato com maior valor arrecadado para sua campanha?"
   ]
  },
  {
   "cell_type": "code",
   "execution_count": null,
   "metadata": {},
   "outputs": [],
   "source": [
    "most_collected = vr_receita.max()\n",
    "eleicao[vr_receita == most_collected]"
   ]
  },
  {
   "cell_type": "markdown",
   "metadata": {},
   "source": [
    "#### Explicação sobre a candidata com maior valor arrecadado:"
   ]
  },
  {
   "cell_type": "markdown",
   "metadata": {},
   "source": [
    "### Qual seria o candidato com menor valor arrecadado para sua campanha?"
   ]
  },
  {
   "cell_type": "code",
   "execution_count": null,
   "metadata": {},
   "outputs": [],
   "source": [
    "less_collected = vr_receita.min()\n",
    "eleicao[vr_receita == less_collected]"
   ]
  },
  {
   "cell_type": "markdown",
   "metadata": {},
   "source": [
    "#### Explicação sobre os menores valores arrecadados para campanhas:"
   ]
  },
  {
   "cell_type": "markdown",
   "metadata": {},
   "source": [
    "### Qual seria a distribuição de idade dos candidatos?"
   ]
  },
  {
   "cell_type": "markdown",
   "metadata": {},
   "source": [
    "### Qual seria o candidato mais novo a ser eleito?\n"
   ]
  },
  {
   "cell_type": "markdown",
   "metadata": {},
   "source": [
    "### Qual seria o candidato mais velho a ser eleito?\n"
   ]
  },
  {
   "cell_type": "markdown",
   "metadata": {},
   "source": [
    "## Análise das relações entre variáveis"
   ]
  },
  {
   "cell_type": "markdown",
   "metadata": {},
   "source": [
    "#### Analisando a correlação de número de votos e valor de arrecadação para a campanha"
   ]
  },
  {
   "cell_type": "code",
   "execution_count": null,
   "metadata": {},
   "outputs": [],
   "source": [
    "# INSIRA SEU CÓDIGO AQUI\n",
    "ax = sns.lmplot(data=eleicao, x=\"VR_RECEITA\", y=\"QT_VOTOS\", palette=\"muted\", ci=None) \n",
    "ax.set_axis_labels(\"Receita (Millions | R$)\", \"Número de Votos\")"
   ]
  },
  {
   "cell_type": "markdown",
   "metadata": {},
   "source": [
    "#### Explicação sobre o gráfico de coorelação (Scatterplot)"
   ]
  },
  {
   "cell_type": "code",
   "execution_count": null,
   "metadata": {},
   "outputs": [],
   "source": [
    "x = eleicao['VR_RECEITA']\n",
    "y = eleicao['QT_VOTOS']\n",
    "\n",
    "pd.Series({\n",
    "    'pearson': x.corr(y, method='pearson'),\n",
    "    'spearman': x.corr(y, method='spearman'),\n",
    "    'kendall': x.corr(y, method='kendall')\n",
    "}, name='correlacao').to_frame()"
   ]
  },
  {
   "cell_type": "markdown",
   "metadata": {},
   "source": [
    "#### Explicação sobre os coeficientes "
   ]
  },
  {
   "cell_type": "code",
   "execution_count": null,
   "metadata": {},
   "outputs": [],
   "source": [
    "heatmap_data = eleicao[['VR_RECEITA', 'QT_VOTOS']].corr()\n",
    "sns.heatmap(heatmap_data, annot=True, cmap='coolwarm', linewidths=.5)\n",
    "plt.title('Correlation Heatmap')\n",
    "plt.show()"
   ]
  },
  {
   "cell_type": "markdown",
   "metadata": {},
   "source": [
    "#### Analisando o gráfico de heatmap"
   ]
  },
  {
   "cell_type": "code",
   "execution_count": null,
   "metadata": {},
   "outputs": [],
   "source": [
    "ax = sns.lmplot(data=eleicao, x=\"VR_BEM_CANDIDATO\", y=\"QT_VOTOS\", palette=\"muted\", ci=None) \n",
    "ax.set_axis_labels(\"Bens do Candidato (Millions | R$)\", \"Número de Votos\")"
   ]
  },
  {
   "cell_type": "markdown",
   "metadata": {},
   "source": [
    "#### Explicação sobre o gráfico de correlação entre bens do candidato e número de votos (Scatterplot)"
   ]
  },
  {
   "cell_type": "code",
   "execution_count": null,
   "metadata": {},
   "outputs": [],
   "source": [
    "max_vr_candidato = eleicao['VR_BEM_CANDIDATO'].max()\n",
    "candidato = eleicao[eleicao['VR_BEM_CANDIDATO'] == max_vr_candidato].reset_index()\n",
    "candidato"
   ]
  },
  {
   "cell_type": "markdown",
   "metadata": {},
   "source": [
    "#### Explicação sobre o candidato que tinha 83 milhões de bens avaliados"
   ]
  },
  {
   "cell_type": "code",
   "execution_count": null,
   "metadata": {},
   "outputs": [],
   "source": [
    "x = eleicao['VR_BEM_CANDIDATO']\n",
    "y = eleicao['QT_VOTOS']\n",
    "\n",
    "pd.Series({\n",
    "    'pearson': x.corr(y, method='pearson'),\n",
    "    'spearman': x.corr(y, method='spearman'),\n",
    "    'kendall': x.corr(y, method='kendall')\n",
    "}, name='correlacao').to_frame()"
   ]
  },
  {
   "cell_type": "markdown",
   "metadata": {},
   "source": [
    "#### Explicação sobre os coeficiente de correlação"
   ]
  },
  {
   "cell_type": "code",
   "execution_count": null,
   "metadata": {},
   "outputs": [],
   "source": [
    "heatmap_data = eleicao[['VR_BEM_CANDIDATO', 'QT_VOTOS']].corr()\n",
    "sns.heatmap(heatmap_data, annot=True, cmap='coolwarm', linewidths=.5)\n",
    "plt.title('Correlation Heatmap')\n",
    "plt.show()"
   ]
  },
  {
   "cell_type": "markdown",
   "metadata": {},
   "source": [
    "#### Explicação sobre o gráfico de heatmap"
   ]
  },
  {
   "cell_type": "markdown",
   "metadata": {},
   "source": [
    "### Fazendo o log da receita para tentar analisar uma possível correlação entre as variáveis"
   ]
  },
  {
   "cell_type": "code",
   "execution_count": null,
   "metadata": {},
   "outputs": [],
   "source": [
    "eleicao['log_receita'] = np.log(eleicao['VR_RECEITA'])\n",
    "ax = sns.lmplot(data=eleicao, x=\"log_receita\", y=\"QT_VOTOS\", palette=\"muted\", ci=None) \n",
    "ax.set_axis_labels(\"Log da Receita\", \"Número de Votos\")\n",
    "\n",
    "plt.show()"
   ]
  },
  {
   "cell_type": "markdown",
   "metadata": {},
   "source": [
    "#### Explicação sobre o uso do log da receita"
   ]
  },
  {
   "cell_type": "markdown",
   "metadata": {},
   "source": [
    "### Aplicando log em ambas as variáveis"
   ]
  },
  {
   "cell_type": "code",
   "execution_count": null,
   "metadata": {},
   "outputs": [],
   "source": [
    "eleicao['log_receita'] = np.log(eleicao['VR_RECEITA'])\n",
    "eleicao['log_votos'] = np.log(eleicao['QT_VOTOS'])\n",
    "ax = sns.lmplot(data=eleicao, x=\"log_receita\", y=\"log_votos\", palette=\"muted\", ci=None) \n",
    "ax.set_axis_labels(\"Log da Receita\", \"Log dos Votos\")\n",
    "\n",
    "plt.show()"
   ]
  },
  {
   "cell_type": "markdown",
   "metadata": {},
   "source": [
    "#### Explicando sobre a utilização dos logs em ambas as variáveis (Quantidade de votos e receita de bens declarados)"
   ]
  },
  {
   "cell_type": "markdown",
   "metadata": {},
   "source": [
    "\n",
    "## Análise de regressão \n"
   ]
  },
  {
   "cell_type": "markdown",
   "metadata": {},
   "source": [
    "### Analisando a relação entre Valor de receita e Quantida de votos"
   ]
  },
  {
   "cell_type": "code",
   "execution_count": null,
   "metadata": {},
   "outputs": [],
   "source": [
    "# INSIRA SEU CÓDIGO AQUI\n",
    "eleicao['VR_RECEITA'].fillna(0)\n",
    "eleicao['QT_VOTOS'].fillna(0)\n",
    "\n",
    "\n",
    "predictors = ['VR_RECEITA']\n",
    "outcome = 'QT_VOTOS'\n",
    "\n",
    "model = LinearRegression()\n",
    "model.fit(eleicao[predictors], eleicao[outcome])\n",
    "print(f'b0 (intercept): {model.intercept_:.2f}')\n",
    "print(f'b1 (coefficient): {model.coef_[0]:.2f}')"
   ]
  },
  {
   "cell_type": "markdown",
   "metadata": {},
   "source": [
    "#### Explicação sobre as variáveis de predição"
   ]
  },
  {
   "cell_type": "code",
   "execution_count": null,
   "metadata": {},
   "outputs": [],
   "source": [
    "fitted = model.predict(eleicao[predictors])\n",
    "residuals = eleicao[outcome] - fitted\n",
    "\n",
    "ax = eleicao.plot.scatter(x='VR_RECEITA', y='QT_VOTOS', figsize=(8, 4))\n",
    "ax.plot(eleicao.VR_RECEITA, fitted)\n",
    "for x, yactual, yfitted in zip(eleicao.VR_RECEITA, eleicao.QT_VOTOS, fitted): \n",
    "    ax.plot((x, x), (yactual, yfitted), '--', color='C1')\n",
    "\n",
    "plt.tight_layout()\n",
    "plt.show()"
   ]
  },
  {
   "cell_type": "markdown",
   "metadata": {},
   "source": [
    "#### Explicação sobre o gráfico acima."
   ]
  },
  {
   "cell_type": "markdown",
   "metadata": {},
   "source": [
    "#### Avaliando o modelo "
   ]
  },
  {
   "cell_type": "code",
   "execution_count": null,
   "metadata": {},
   "outputs": [],
   "source": [
    "RMSE = np.sqrt(mean_squared_error(eleicao[outcome], fitted))\n",
    "r2 = r2_score(eleicao[outcome], fitted)\n",
    "print(f'Root Mean Square Error (RMSE): {RMSE:.0f}')\n",
    "print(f'Coefficiente of determination (r2): {r2:.4f}')"
   ]
  },
  {
   "cell_type": "markdown",
   "metadata": {},
   "source": [
    "#### Explicação sobre a avaliação do modelo (Valor de receita e a quantidade de votos):"
   ]
  },
  {
   "cell_type": "code",
   "execution_count": null,
   "metadata": {},
   "outputs": [],
   "source": [
    "model = sm.OLS(eleicao[outcome], eleicao[predictors].assign(const=1))\n",
    "results = model.fit()\n",
    "results.summary()"
   ]
  },
  {
   "cell_type": "markdown",
   "metadata": {},
   "source": [
    "#### Explicações adicionais com o uso do results.summary()"
   ]
  },
  {
   "cell_type": "markdown",
   "metadata": {},
   "source": [
    "#### Analisando com relação ao valor de bens do candidato"
   ]
  },
  {
   "cell_type": "code",
   "execution_count": null,
   "metadata": {},
   "outputs": [],
   "source": [
    "eleicao['VR_BEM_CANDIDATO'].fillna(0)\n",
    "\n",
    "\n",
    "predictors = ['VR_BEM_CANDIDATO']\n",
    "outcome = 'QT_VOTOS'\n",
    "\n",
    "model = LinearRegression()\n",
    "model.fit(eleicao[predictors], eleicao[outcome])\n",
    "print(f'b0 (intercept): {model.intercept_:.2f}')\n",
    "print(f'b1 (coefficient): {model.coef_[0]:.2f}')"
   ]
  },
  {
   "cell_type": "markdown",
   "metadata": {},
   "source": [
    "#### Explicação sobre as variáveis de predição"
   ]
  },
  {
   "cell_type": "code",
   "execution_count": null,
   "metadata": {},
   "outputs": [],
   "source": [
    "fitted = model.predict(eleicao[predictors])\n",
    "residuals = eleicao[outcome] - fitted\n",
    "\n",
    "ax = eleicao.plot.scatter(x='VR_BEM_CANDIDATO', y='QT_VOTOS', figsize=(8, 4))\n",
    "ax.plot(eleicao.VR_BEM_CANDIDATO, fitted)\n",
    "for x, yactual, yfitted in zip(eleicao.VR_BEM_CANDIDATO, eleicao.QT_VOTOS, fitted): \n",
    "    ax.plot((x, x), (yactual, yfitted), '--', color='C1')\n",
    "\n",
    "plt.tight_layout()\n",
    "plt.show()"
   ]
  },
  {
   "cell_type": "markdown",
   "metadata": {},
   "source": [
    "#### Explicação sobre o gráfico acima"
   ]
  },
  {
   "cell_type": "markdown",
   "metadata": {},
   "source": [
    "#### Avaliando o modelo "
   ]
  },
  {
   "cell_type": "code",
   "execution_count": null,
   "metadata": {},
   "outputs": [],
   "source": [
    "RMSE = np.sqrt(mean_squared_error(eleicao[outcome], fitted))\n",
    "r2 = r2_score(eleicao[outcome], fitted)\n",
    "print(f'Root Mean Square Error (RMSE): {RMSE:.0f}')\n",
    "print(f'Coefficiente of determination (r2): {r2:.4f}')"
   ]
  },
  {
   "cell_type": "markdown",
   "metadata": {},
   "source": [
    "#### Explicação sobre a avaliação do modelo (Valor de bens declarados e a quantidade de votos):"
   ]
  },
  {
   "cell_type": "code",
   "execution_count": null,
   "metadata": {},
   "outputs": [],
   "source": [
    "model = sm.OLS(eleicao[outcome], eleicao[predictors].assign(const=1))\n",
    "results = model.fit()\n",
    "results.summary()"
   ]
  },
  {
   "cell_type": "markdown",
   "metadata": {},
   "source": [
    "#### Explicações adicionais com o uso do results.summary()"
   ]
  },
  {
   "cell_type": "markdown",
   "metadata": {},
   "source": [
    "### Analise utilizando regressão múltipla"
   ]
  },
  {
   "cell_type": "code",
   "execution_count": null,
   "metadata": {},
   "outputs": [],
   "source": [
    "\n",
    "dummy_siglas = pd.get_dummies(eleicao['SG_PARTIDO'], prefix='SG_PARTIDO', drop_first=True, dtype=int)\n",
    "dummy_genero = pd.get_dummies(eleicao['DS_GENERO'], prefix='GENERO', drop_first=True, dtype=int)\n",
    "dummy_cor_raca = pd.get_dummies(eleicao['DS_COR_RACA'], prefix='COR_RACA', drop_first=True, dtype=int)\n",
    "dummy_grau_instrucao = pd.get_dummies(eleicao['DS_GRAU_INSTRUCAO'], prefix='GRAU_INSTRUCAO', drop_first=True, dtype=int)\n",
    "dummy_estado_civil = pd.get_dummies(eleicao['DS_ESTADO_CIVIL'], prefix='ESTADO_CIVIL',drop_first=True, dtype=int)\n",
    "\n",
    "eleicao_com_dummy = pd.concat([eleicao,dummy_cor_raca, dummy_genero, dummy_grau_instrucao, dummy_estado_civil, dummy_siglas], axis=1)\n",
    "eleicao_com_dummy_sem_nulos = eleicao_com_dummy.fillna(0)\n",
    "\n",
    "predictors = ['NR_CANDIDATO', 'NR_IDADE_DATA_POSSE', 'COR_RACA_BRANCA', 'COR_RACA_INDÍGENA', 'COR_RACA_PARDA', 'COR_RACA_PRETA', 'GENERO_MASCULINO', 'GRAU_INSTRUCAO_ENSINO FUNDAMENTAL INCOMPLETO', 'GRAU_INSTRUCAO_ENSINO MÉDIO COMPLETO', 'GRAU_INSTRUCAO_ENSINO MÉDIO INCOMPLETO', 'GRAU_INSTRUCAO_LÊ E ESCREVE', 'GRAU_INSTRUCAO_SUPERIOR COMPLETO', 'GRAU_INSTRUCAO_SUPERIOR INCOMPLETO' , 'ESTADO_CIVIL_DIVORCIADO(A)', 'ESTADO_CIVIL_SEPARADO(A) JUDICIALMENTE', 'ESTADO_CIVIL_SOLTEIRO(A)', 'ESTADO_CIVIL_VIÚVO(A)','SG_PARTIDO_DC', 'SG_PARTIDO_MDB', 'SG_PARTIDO_PC do B', 'SG_PARTIDO_PDT', 'SG_PARTIDO_PL', 'SG_PARTIDO_PMB', 'SG_PARTIDO_PP', 'SG_PARTIDO_PROS', 'SG_PARTIDO_PRTB', 'SG_PARTIDO_PSB', 'SG_PARTIDO_PSD', 'SG_PARTIDO_PSDB', 'SG_PARTIDO_PSOL', 'SG_PARTIDO_PT', 'SG_PARTIDO_PTB', 'SG_PARTIDO_PV', 'SG_PARTIDO_REDE', 'SG_PARTIDO_REPUBLICANOS', 'SG_PARTIDO_SOLIDARIEDADE', 'SG_PARTIDO_UNIÃO', 'VR_RECEITA', 'VR_BEM_CANDIDATO']\n",
    "\n",
    "outcome = 'QT_VOTOS'\n",
    "\n",
    "model = LinearRegression()\n",
    "model.fit(eleicao_com_dummy_sem_nulos[predictors], eleicao_com_dummy_sem_nulos[outcome])\n",
    "\n",
    "print(f'Intercept: {model.intercept_:.3f}')\n",
    "print('Coefficients:')\n",
    "for name, coef in zip(predictors, model.coef_):\n",
    "    print(f' {name}: {coef}')\n",
    "    \n"
   ]
  },
  {
   "cell_type": "markdown",
   "metadata": {},
   "source": [
    "#### Explicação sobre os coeficientes:"
   ]
  },
  {
   "cell_type": "code",
   "execution_count": null,
   "metadata": {},
   "outputs": [],
   "source": [
    "fitted = model.predict(eleicao_com_dummy_sem_nulos[predictors])\n",
    "RMSE = np.sqrt(mean_squared_error(eleicao_com_dummy_sem_nulos[outcome], fitted))\n",
    "r2 = r2_score(eleicao_com_dummy_sem_nulos[outcome], fitted)\n",
    "print(f'Root Mean Square Error (RMSE): {RMSE:.0f}')\n",
    "print(f'Coefficiente of determination (r2): {r2:.4f}')"
   ]
  },
  {
   "cell_type": "markdown",
   "metadata": {},
   "source": [
    "#### Explicação sobre as medidas apresentadas do RMSE e o coeficiente de determinação (R²)"
   ]
  },
  {
   "cell_type": "code",
   "execution_count": null,
   "metadata": {},
   "outputs": [],
   "source": [
    "model = sm.OLS(eleicao_com_dummy_sem_nulos[outcome], eleicao_com_dummy_sem_nulos[predictors].assign(const=1))\n",
    "results = model.fit()\n",
    "results.summary()"
   ]
  },
  {
   "cell_type": "markdown",
   "metadata": {},
   "source": [
    "#### Explicação sobre alguns outros coeficientes mostrados:"
   ]
  },
  {
   "cell_type": "code",
   "execution_count": null,
   "metadata": {},
   "outputs": [],
   "source": [
    "dummy_genero = pd.get_dummies(eleicao['DS_GENERO'], prefix='GENERO', drop_first=True, dtype=int)\n",
    "dummy_estado_civil = pd.get_dummies(eleicao['DS_ESTADO_CIVIL'], prefix='ESTADO_CIVIL',drop_first=True, dtype=int)\n",
    "\n",
    "eleicao_com_dummy = pd.concat([eleicao, dummy_genero, dummy_estado_civil], axis=1)\n",
    "eleicao_com_dummy_sem_nulos = eleicao_com_dummy.fillna(0)\n",
    "\n",
    "predictors = ['GENERO_MASCULINO', 'ESTADO_CIVIL_SOLTEIRO(A)','VR_RECEITA']\n",
    "\n",
    "outcome = 'QT_VOTOS'\n",
    "\n",
    "model = LinearRegression()\n",
    "model.fit(eleicao_com_dummy_sem_nulos[predictors], eleicao_com_dummy_sem_nulos[outcome])\n",
    "\n",
    "print(f'Intercept: {model.intercept_:.3f}')\n",
    "print('Coefficients:')\n",
    "for name, coef in zip(predictors, model.coef_):\n",
    "    print(f' {name}: {coef}')"
   ]
  },
  {
   "cell_type": "code",
   "execution_count": null,
   "metadata": {},
   "outputs": [],
   "source": [
    "fitted = model.predict(eleicao_com_dummy_sem_nulos[predictors])\n",
    "RMSE = np.sqrt(mean_squared_error(eleicao_com_dummy_sem_nulos[outcome], fitted))\n",
    "r2 = r2_score(eleicao_com_dummy_sem_nulos[outcome], fitted)\n",
    "print(f'Root Mean Square Error (RMSE): {RMSE:.0f}')\n",
    "print(f'Coefficiente of determination (r2): {r2:.4f}')"
   ]
  },
  {
   "cell_type": "code",
   "execution_count": null,
   "metadata": {},
   "outputs": [],
   "source": [
    "model = sm.OLS(eleicao_com_dummy_sem_nulos[outcome], eleicao_com_dummy_sem_nulos[predictors].assign(const=1))\n",
    "results = model.fit()\n",
    "results.summary()"
   ]
  },
  {
   "cell_type": "markdown",
   "metadata": {},
   "source": [
    "\n",
    "### Exemplos de outras questões que podem ser discutidas"
   ]
  },
  {
   "cell_type": "markdown",
   "metadata": {},
   "source": [
    "### Quanto um candidato deve arrecadar no mínimo (receita) para ter mais chance de ser eleito?"
   ]
  },
  {
   "cell_type": "code",
   "execution_count": null,
   "metadata": {},
   "outputs": [],
   "source": [
    "candidatos_eleitos = eleicao[eleicao['DS_SIT_TOT_TURNO'].str.startswith('ELEITO')]\n",
    "candidatos_eleitos = candidatos_eleitos.fillna(0)\n",
    "media_receita = candidatos_eleitos['VR_RECEITA'].mean()\n",
    "minimo_receita = candidatos_eleitos['VR_RECEITA'].min()\n",
    "print(\"Valor médio da receita para candidatos eleitos: R$ {:.2f}\".format(media_receita))\n",
    "print(\"O valor minimo da receita para o candidato ser eleito é : R$ {:.2f}\".format(minimo_receita))\n"
   ]
  },
  {
   "cell_type": "markdown",
   "metadata": {},
   "source": [
    "#### Explicação sobre o que foi levantado:"
   ]
  },
  {
   "cell_type": "markdown",
   "metadata": {},
   "source": [
    "#### Considere um candidato fictício que arrecadou 100 mil reais de receita na campanha. Qual a previsão de votos que ele deve receber? É provável que ele seja eleito?"
   ]
  },
  {
   "cell_type": "code",
   "execution_count": null,
   "metadata": {},
   "outputs": [],
   "source": [
    "eleicao_copy = eleicao.copy()\n",
    "eleicao_copy['VR_RECEITA'] = eleicao['VR_RECEITA'].fillna(0)\n",
    "eleicao_copy['QT_VOTOS'] = eleicao['QT_VOTOS'].fillna(0)\n",
    "predictors = ['VR_RECEITA']\n",
    "outcome = 'QT_VOTOS'\n",
    "model = LinearRegression()\n",
    "model.fit(eleicao_copy[predictors], eleicao_copy[outcome])\n",
    "orcamento_campanha = 100000\n",
    "previsao_votos = model.predict([[orcamento_campanha]])\n",
    "print(f\"Número esperado de votos para um orçamento de R$ {orcamento_campanha:.2f} de campanha: {previsao_votos[0]:.2f} votos.\")\n",
    "\n"
   ]
  },
  {
   "cell_type": "markdown",
   "metadata": {},
   "source": [
    "#### Explicando o resultado da predição:"
   ]
  },
  {
   "cell_type": "markdown",
   "metadata": {},
   "source": [
    "#### Considere um candidato fictício que o candidato tinha 100 mil em valor de bens. Qual a previsão de votos que ele deve receber? É provável que ele seja eleito?"
   ]
  },
  {
   "cell_type": "code",
   "execution_count": null,
   "metadata": {},
   "outputs": [],
   "source": [
    "eleicao_copy = eleicao.copy()\n",
    "eleicao_copy['VR_BEM_CANDIDATO'] = eleicao['VR_BEM_CANDIDATO'].fillna(0)\n",
    "eleicao_copy['QT_VOTOS'] = eleicao['QT_VOTOS'].fillna(0)\n",
    "predictors = ['VR_BEM_CANDIDATO']\n",
    "outcome = 'QT_VOTOS'\n",
    "model = LinearRegression()\n",
    "model.fit(eleicao_copy[predictors], eleicao_copy[outcome])\n",
    "valor_bem_candidato = 100000\n",
    "previsao_votos = model.predict([[valor_bem_candidato]])\n",
    "print(f\"Número esperado de votos para um valor de bens do candidato de R$ {valor_bem_candidato:.2f} de campanha: {previsao_votos[0]:.2f} votos.\")\n"
   ]
  },
  {
   "cell_type": "markdown",
   "metadata": {},
   "source": [
    "#### Explicando o resultado da predição:"
   ]
  },
  {
   "cell_type": "markdown",
   "metadata": {},
   "source": [
    "### É possível estimar bem se um candidato vai ser eleito ou não com base em outras variáveis (ex: regressão logística com a situação final do candidato)?"
   ]
  },
  {
   "cell_type": "code",
   "execution_count": null,
   "metadata": {},
   "outputs": [],
   "source": [
    "from sklearn.linear_model import LogisticRegression\n",
    "\n",
    "eleicao_copy = eleicao.copy()\n",
    "categorias_interesse = ['ELEITO POR MÉDIA', 'NÃO ELEITO']\n",
    "eleicao_copy = eleicao_copy[eleicao_copy['DS_SIT_TOT_TURNO'].isin(categorias_interesse)]\n",
    "\n",
    "limites = [0, 5000, 10000, 15000, 20000, 25000, 30000, 50000, 100000, np.inf]\n",
    "categorias = ['0-5000', '5000-10000', '10000-15000', '15000-20000', '20000-25000', '25000-30000', '30000-50000', '50000-100000', '100000+']\n",
    "\n",
    "\n",
    "eleicao_copy['DS_SIT_TOT_TURNO'] = eleicao_copy['DS_SIT_TOT_TURNO'].astype('category')\n",
    "eleicao_copy['DS_SIT_TOT_TURNO'] = eleicao_copy['DS_SIT_TOT_TURNO'].cat.reorder_categories(['ELEITO POR MÉDIA', 'NÃO ELEITO'])\n",
    "eleicao_copy['DS_GENERO'] = eleicao_copy['DS_GENERO'].astype('category')\n",
    "eleicao_copy['DS_ESTADO_CIVIL'] = eleicao_copy['DS_ESTADO_CIVIL'].astype('category')\n",
    "eleicao_copy['DS_COR_RACA'] = eleicao_copy['DS_COR_RACA'].astype('category')\n",
    "eleicao_copy['VR_RECEITA'] = pd.cut(eleicao_copy['VR_RECEITA'], bins=limites, labels=categorias, right=False).astype('category')\n",
    "\n",
    "outcome = 'DS_SIT_TOT_TURNO'\n",
    "predictors  = ['DS_GENERO', 'DS_ESTADO_CIVIL', 'DS_COR_RACA', 'VR_RECEITA']\n",
    "eleicao_copy[[outcome] + predictors]\n",
    "\n",
    "X = pd.get_dummies(eleicao_copy[predictors], prefix='', prefix_sep='', \n",
    "                   drop_first=True)\n",
    "y = eleicao_copy[outcome] \n",
    "\n",
    "logit_reg = LogisticRegression(penalty='l2', C=1e42, solver='liblinear')\n",
    "logit_reg.fit(X, y)\n",
    "\n",
    "print('intercept ', logit_reg.intercept_[0])\n",
    "print('classes', logit_reg.classes_)\n",
    "pd.DataFrame({'coeff': logit_reg.coef_[0]}, \n",
    "             index=X.columns)\n"
   ]
  },
  {
   "cell_type": "markdown",
   "metadata": {},
   "source": [
    "#### Explicação sobre a regressão Logística em relação aos dados apresentados: (o valor negativo tende a ser para primeira classe)"
   ]
  },
  {
   "cell_type": "markdown",
   "metadata": {},
   "source": [
    "### Realizando a avaliação do modelo utilizando uma nova coluna que vai verificar se os candidatos foram eleitos ou não, caso seja eleito vai ficar 1 e caso não seja vai ficar 0."
   ]
  },
  {
   "cell_type": "code",
   "execution_count": null,
   "metadata": {},
   "outputs": [],
   "source": [
    "from sklearn.linear_model import LogisticRegression\n",
    "\n",
    "eleicao_copy = eleicao.copy()\n",
    "eleicao_copy['ELEITO'] = eleicao_copy['DS_SIT_TOT_TURNO'].apply(lambda x: 1 if x in ['ELEITO POR MÉDIA', 'ELEITO POR QP'] else 0)\n",
    "\n",
    "limites = [0, 5000, 10000, 15000, 20000, 25000, 30000, 50000, 100000, np.inf]\n",
    "categorias = ['0-5000', '5000-10000', '10000-15000', '15000-20000', '20000-25000', '25000-30000', '30000-50000', '50000-100000', '100000+']\n",
    "\n",
    "eleicao_copy['ELEITO'] = eleicao_copy['ELEITO'].astype('category')\n",
    "eleicao_copy.sort_values(by='ELEITO', ascending=False, inplace=True)\n",
    "eleicao_copy['DS_GENERO'] = eleicao_copy['DS_GENERO'].astype('category')\n",
    "eleicao_copy['DS_ESTADO_CIVIL'] = eleicao_copy['DS_ESTADO_CIVIL'].astype('category')\n",
    "eleicao_copy['DS_COR_RACA'] = eleicao_copy['DS_COR_RACA'].astype('category')\n",
    "eleicao_copy['VR_RECEITA'] = pd.cut(eleicao_copy['VR_RECEITA'], bins=limites, labels=categorias, right=False).astype('category')\n",
    "\n",
    "\n",
    "outcome = 'ELEITO'\n",
    "predictors  = ['DS_GENERO', 'DS_ESTADO_CIVIL', 'DS_COR_RACA', 'VR_RECEITA']\n",
    "eleicao_copy[[outcome] + predictors]\n",
    "\n",
    "X = pd.get_dummies(eleicao_copy[predictors], prefix='', prefix_sep='', \n",
    "                   drop_first=True)\n",
    "y = eleicao_copy[outcome] \n",
    "\n",
    "logit_reg = LogisticRegression(penalty='l2', C=1e42, solver='liblinear')\n",
    "logit_reg.fit(X, y)\n",
    "\n",
    "print('intercept ', logit_reg.intercept_[0])\n",
    "print('classes', logit_reg.classes_)\n",
    "pd.DataFrame({'coeff': logit_reg.coef_[0]}, \n",
    "             index=X.columns)"
   ]
  },
  {
   "cell_type": "markdown",
   "metadata": {},
   "source": [
    "#### Explicação sobre o que foi levantado:"
   ]
  }
 ],
 "metadata": {
  "kernelspec": {
   "display_name": "Python 3.9.13 64-bit",
   "language": "python",
   "name": "python3"
  },
  "language_info": {
   "codemirror_mode": {
    "name": "ipython",
    "version": 3
   },
   "file_extension": ".py",
   "mimetype": "text/x-python",
   "name": "python",
   "nbconvert_exporter": "python",
   "pygments_lexer": "ipython3",
   "version": "3.10.12"
  },
  "orig_nbformat": 4,
  "vscode": {
   "interpreter": {
    "hash": "aee8b7b246df8f9039afb4144a1f6fd8d2ca17a180786b69acc140d282b71a49"
   }
  }
 },
 "nbformat": 4,
 "nbformat_minor": 2
}
